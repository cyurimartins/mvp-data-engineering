{
 "cells": [
  {
   "cell_type": "markdown",
   "metadata": {
    "application/vnd.databricks.v1+cell": {
     "cellMetadata": {
      "byteLimit": 2048000,
      "rowLimit": 10000
     },
     "inputWidgets": {},
     "nuid": "3ea017e5-191f-4880-a7e9-848d31265234",
     "showTitle": false,
     "tableResultSettingsMap": {},
     "title": ""
    }
   },
   "source": [
    "# MVP 2025 - ENGENHARIA DE DADOS\n",
    "\n",
    "- Sprint: Engenharia de Dados\n",
    "- Professor: Victor Almeida\n",
    "- Aluno: Carlos Yuri Martins Braga Farias\n",
    "\n",
    "A proposta é realizar o tratamento e análise de dados relacionados ao desempenho de jogadores de futebol durante partidas, buscando extrair insights relevantes.\n",
    "\n",
    "Este MVP terá como base um conjunto de dados estatísticos contendo atributos como gols, assistências, minutos jogados, passes, chutes, cartões, entre outros indicadores de performance individual por partida. O objetivo é construir um modelo analítico estruturado em um modelo dimensional (Esquema Estrela) e implementar um pipeline completo de ingestão, transformação, carga e análise dos dados."
   ]
  },
  {
   "cell_type": "markdown",
   "metadata": {
    "application/vnd.databricks.v1+cell": {
     "cellMetadata": {
      "byteLimit": 2048000,
      "rowLimit": 10000
     },
     "inputWidgets": {},
     "nuid": "332513a8-e693-44e3-bb32-0b26a645e6ea",
     "showTitle": false,
     "tableResultSettingsMap": {},
     "title": ""
    }
   },
   "source": [
    "#### Perguntas\n",
    "\n",
    "- 01 - Qual jogador com maior participação em gols?\n",
    "- 02 - Quais jogadores com mais tempo de jogo?\n",
    "- 03 - Top 10 Jogadores com mais minutos jogados têm melhor desempenho ofensivo?\n",
    "- 04 - Quantidade de jogadores por país?\n",
    "- 05 - Clubes com mais jogadores estrangeiros?\n",
    "- 06 - Quais os jogadores que tomaram mais cartões no campeonato?\n",
    "- 07 - Qual o total de gols do campeonato, listar o top 5 artilheiros e os líderes em assistencia?\n",
    "- 08 - Qual o clube com o maior numero de gols? Qual o clube com a maior média de gols por jogador?\n",
    "- 09 - Quais os jogadores com maior número de dribles certos?\n",
    "- 10 - Evolução dos gols ao longo do campeonato (por mês ou rodada). "
   ]
  },
  {
   "cell_type": "markdown",
   "metadata": {
    "application/vnd.databricks.v1+cell": {
     "cellMetadata": {
      "byteLimit": 2048000,
      "rowLimit": 10000
     },
     "inputWidgets": {},
     "nuid": "1461a6a8-f89e-4ed5-85d3-36d692559f35",
     "showTitle": false,
     "tableResultSettingsMap": {},
     "title": ""
    }
   },
   "source": [
    "#### Fonte de dados\n",
    "\n",
    "Fonte: Kaggle\n",
    "\n",
    "O conjunto de dados utilizado neste MVP consiste em estatísticas de desempenho de jogadores de futebol, coletadas em nível de partida. As informações incluem atributos individuais como gols, assistências, minutos jogados, passes, conduções, chutes, cartões, entre outros."
   ]
  },
  {
   "cell_type": "markdown",
   "metadata": {
    "application/vnd.databricks.v1+cell": {
     "cellMetadata": {
      "byteLimit": 2048000,
      "rowLimit": 10000
     },
     "inputWidgets": {},
     "nuid": "e4ed040e-aaa3-4db4-a7d6-97d1cbf282ee",
     "showTitle": false,
     "tableResultSettingsMap": {},
     "title": ""
    }
   },
   "source": [
    "#### Modelagem\n",
    "\n",
    "A modelagem dos dados foi realizada no formato Esquema Estrela, com uma tabela fato central contendo as métricas de desempenho dos jogadores em cada partida, relacionada a tabelas de dimensão que descrevem entidades analíticas como jogadores, times e tempo.\n",
    "\n",
    "Tabela Fato: \n",
    "- fato_desempenho_jogador\n",
    "\n",
    "Dimensões: \n",
    "- dim_jogador: Infomações básicas dos jogadores\n",
    "- dim_clube: Lista de clubes\n",
    "- dim_posicao: Lista de posições\n",
    "- dim_tempo: Tabela temporal\n",
    "- dim_pais: Lista de países dos jogadores\n"
   ]
  },
  {
   "cell_type": "markdown",
   "metadata": {
    "application/vnd.databricks.v1+cell": {
     "cellMetadata": {},
     "inputWidgets": {},
     "nuid": "8e02e5f7-0c94-45b0-939f-011ca67af5d6",
     "showTitle": false,
     "tableResultSettingsMap": {},
     "title": ""
    }
   },
   "source": [
    "#### Dicionário de Dados\n",
    "\n",
    "##### 🔹 `dim_jogador`\n",
    "\n",
    "| Nome da Coluna | Tipo de Dado | Descrição                          |\n",
    "|----------------|--------------|------------------------------------|\n",
    "| `id_jogador`   | int          | Identificador único do jogador     |\n",
    "| `nome`         | string       | Nome do jogador                    |\n",
    "| `clube`        | string       | Clube atual do jogador             |\n",
    "| `idade`        | string       | Idade do jogador                   |\n",
    "---\n",
    "\n",
    "\n",
    "\n",
    "##### 🔹 `dim_clube`\n",
    "\n",
    "| Nome da Coluna | Tipo de Dado | Descrição                      |\n",
    "|----------------|--------------|--------------------------------|\n",
    "| `id_clube`     | int          | Identificador único do clube   |\n",
    "| `clube`        | string       | Nome do clube                  |\n",
    "---\n",
    "\n",
    "##### 🔹 `dim_pais`\n",
    "\n",
    "| Nome da Coluna | Tipo de Dado | Descrição                           |\n",
    "|----------------|--------------|-------------------------------------|\n",
    "| `id_pais`      | int          | Identificador único do país         |\n",
    "| `sigla_pais`   | string       | Sigla do país (ex: BRA, ARG, etc.)    |\n",
    "| `pais`         | string       | Nome do país                        |\n",
    "| `continente`   | string       | Continente ao qual o país pertence  |\n",
    "\n",
    "---\n",
    "\n",
    "###### 🔹 `dim_posicao`\n",
    "\n",
    "| Nome da Coluna       | Tipo de Dado | Descrição                                            |\n",
    "|----------------------|--------------|------------------------------------------------------|\n",
    "| `id_posicao`         | int          | Identificador único da posição                      |\n",
    "| `posicao`            | string       | Sigla da posição (ex: ZAG, MEI)                      |\n",
    "| `posicao_completa`   | string       | Nome completo da posição (ex: Zagueiro, Meio-Campo) |\n",
    "| `tipo_posicao`       | string       | Tipo da posição (Defesa, Meio, Ataque, etc.)         |\n",
    "| `descricao_tatica`   | string       | Descrição tática da função na equipe                |\n",
    "\n",
    "---\n",
    "\n",
    "###### 🔹 `dim_tempo`\n",
    "\n",
    "| Nome da Coluna   | Tipo de Dado | Descrição                                  |\n",
    "|------------------|--------------|--------------------------------------------|\n",
    "| `data`           | date         | Data no formato AAAA-MM-DD                 |\n",
    "| `ano`            | int          | Ano da data                                |\n",
    "| `mes`            | string       | Mês por extenso                            |\n",
    "| `dia`            | string       | Dia do mês                                 |\n",
    "| `dia_semana`     | string       | Dia da semana (em português)               |\n",
    "| `trimestre`      | int          | Trimestre correspondente à data (1 a 4)    |\n",
    "---\n",
    "\n",
    "###### 🔸 `fato_desempenho_jogador`\n",
    "\n",
    "| Nome da Coluna        | Tipo de Dado | Descrição                               |\n",
    "|------------------------|---------------|-----------------------------------------|\n",
    "| `id_jogador`             | int           | FK para dim_jogador                     |\n",
    "| `id_clube`               | int           | FK para dim_clube                       |\n",
    "| `id_pais`                | int           | FK para dim_pais                        |\n",
    "| `id_posicao`             | int           | FK para dim_posicao                     |\n",
    "| `data`                   | date          | FK para dim_tempo                       |\n",
    "| `minutos`                | int           | Minutos jogados                         |\n",
    "| `gols`                   | int           | Gols marcados                           |\n",
    "| `assistencias`           | int           | Assistências                            |\n",
    "| `passes_basicos`         | int           | Passes simples                          |\n",
    "| `passes_totais`          | int           | Total de passes                         |\n",
    "| `toques_curtos`          | int           | Toques curtos                           |\n",
    "| `chutes_a_gol`           | int           | Finalizações no gol                     |\n",
    "| `cartoes_amarelos`       | int           | Número de cartões amarelos              |\n",
    "| `cartoes_vermelhos`      | int           | Número de cartões vermelhos             |\n",
    "| `contatos`               | int           | Total de contatos com a bola            |\n",
    "| `divisoes`               | int           | Divisões disputadas                     |\n",
    "| `cruzamentos`            | int           | Cruzamentos realizados                  |\n",
    "| `bloqueios`              | int           | Bloqueios efetuados                     |\n",
    "| `xg`                     | float         | Expected Goals                          |\n",
    "| `npxg`                   | float         | Expected Goals sem pênaltis             |\n",
    "| `xag`                    | float         | Expected Assists                        |\n",
    "| `sca`                    | int           | Shot-Creating Actions                   |\n",
    "| `gca`                    | int           | Goal-Creating Actions                   |\n",
    "| `passes_completos`       | int           | Passes completados                      |\n",
    "| `passes_tentados`        | int           | Passes tentados                         |\n",
    "| `porcentagem_passes`     | float         | Porcentagem de acerto nos passes        |\n",
    "| `passes_prog`            | int           | Passes progressivos                     |\n",
    "| `conducoes`              | int           | Conduções de bola                       |\n",
    "| `conducoes_prog`         | int           | Conduções progressivas                  |\n",
    "| `dribles_tentados`       | int           | Total de dribles                        |\n",
    "| `dribles_sucesso`        | int           | Dribles bem-sucedidos                   |\n",
    "| `ingestao_data`          | timestamp     | Data de ingestão dos dados              |\n",
    "\n",
    "---"
   ]
  },
  {
   "cell_type": "markdown",
   "metadata": {
    "application/vnd.databricks.v1+cell": {
     "cellMetadata": {
      "byteLimit": 2048000,
      "rowLimit": 10000
     },
     "inputWidgets": {},
     "nuid": "be7394ff-394b-43f9-bd9c-b5a8341d2471",
     "showTitle": false,
     "tableResultSettingsMap": {},
     "title": ""
    }
   },
   "source": [
    "## 1.0 - Pipeline de ETL"
   ]
  },
  {
   "cell_type": "markdown",
   "metadata": {
    "application/vnd.databricks.v1+cell": {
     "cellMetadata": {
      "byteLimit": 2048000,
      "rowLimit": 10000
     },
     "inputWidgets": {},
     "nuid": "946f1dda-289e-4dc9-beb2-2f353e99dc8c",
     "showTitle": false,
     "tableResultSettingsMap": {},
     "title": ""
    }
   },
   "source": [
    "##### 1.1 - Importando bibliotecas"
   ]
  },
  {
   "cell_type": "code",
   "execution_count": 0,
   "metadata": {
    "application/vnd.databricks.v1+cell": {
     "cellMetadata": {
      "byteLimit": 2048000,
      "rowLimit": 10000
     },
     "inputWidgets": {},
     "nuid": "d9c6487f-307c-436b-97f8-4157f12837fc",
     "showTitle": false,
     "tableResultSettingsMap": {},
     "title": ""
    }
   },
   "outputs": [],
   "source": [
    "# Importando bilbiotecas\n",
    "import pandas as pd\n",
    "import io\n",
    "import requests\n",
    "from pyspark.sql.functions import current_timestamp\n",
    "from pyspark.sql.functions import to_date\n",
    "from pyspark.sql.functions import col\n",
    "from pyspark.sql.window import Window\n",
    "from pyspark.sql.functions import row_number\n",
    "from pyspark.sql.functions import substring\n",
    "from pyspark.sql.functions import max\n",
    "from pyspark.sql.functions import create_map, lit\n",
    "from itertools import chain\n",
    "from pyspark.sql.functions import coalesce, lit\n",
    "from pyspark.sql.functions import lit, create_map, col\n",
    "from pyspark.sql.functions import split, explode, when\n",
    "from pyspark.sql.functions import col, to_date, year, month, dayofweek, date_format\n",
    "from pyspark.sql.types import DateType\n",
    "from datetime import datetime, timedelta\n",
    "\n",
    "\n",
    "# importação do pyplot\n",
    "import matplotlib.pyplot as plt\n",
    "import seaborn as sns\n",
    "\n"
   ]
  },
  {
   "cell_type": "markdown",
   "metadata": {
    "application/vnd.databricks.v1+cell": {
     "cellMetadata": {
      "byteLimit": 2048000,
      "rowLimit": 10000
     },
     "inputWidgets": {},
     "nuid": "eece018f-d82c-446b-adc8-c4f453681f90",
     "showTitle": false,
     "tableResultSettingsMap": {},
     "title": ""
    }
   },
   "source": [
    "##### 1.2 - Importando dados do github"
   ]
  },
  {
   "cell_type": "code",
   "execution_count": 0,
   "metadata": {
    "application/vnd.databricks.v1+cell": {
     "cellMetadata": {
      "byteLimit": 2048000,
      "rowLimit": 10000
     },
     "inputWidgets": {},
     "nuid": "2c9db52f-6085-4065-9575-f130db229275",
     "showTitle": false,
     "tableResultSettingsMap": {},
     "title": ""
    }
   },
   "outputs": [],
   "source": [
    "# Importando dados\n",
    "\n",
    "url = \"https://raw.githubusercontent.com/cyurimartins/mvp-data-engineering/main/dados/camp_br_2024.csv\"\n",
    "csv = pd.read_csv(url)\n",
    "\n",
    "df = spark.createDataFrame(csv)"
   ]
  },
  {
   "cell_type": "code",
   "execution_count": 0,
   "metadata": {
    "application/vnd.databricks.v1+cell": {
     "cellMetadata": {
      "byteLimit": 2048000,
      "rowLimit": 10000
     },
     "inputWidgets": {},
     "nuid": "0b72b26c-0f72-4912-8a1f-3da7d0ac0080",
     "showTitle": false,
     "tableResultSettingsMap": {},
     "title": ""
    }
   },
   "outputs": [],
   "source": [
    "# Leitura da tabela bruta\n",
    "df_br2024 = df\n",
    "\n",
    "# Adiciona timestamp\n",
    "df_br2024 = df_br2024.withColumn(\"ingestao_data\", current_timestamp())"
   ]
  },
  {
   "cell_type": "markdown",
   "metadata": {
    "application/vnd.databricks.v1+cell": {
     "cellMetadata": {
      "byteLimit": 2048000,
      "rowLimit": 10000
     },
     "inputWidgets": {},
     "nuid": "6c515d5e-7585-40d1-9bd1-549201c470ae",
     "showTitle": false,
     "tableResultSettingsMap": {},
     "title": ""
    }
   },
   "source": [
    "### 1.3 - Camada Bronze\n",
    "\n",
    "Criando a camada bronze para gravar as tabelas brutas, sem nenhum tipo de tratamento, garantindo a persistência dos dados originais, então possibilita reprocessamento futuro."
   ]
  },
  {
   "cell_type": "code",
   "execution_count": 0,
   "metadata": {
    "application/vnd.databricks.v1+cell": {
     "cellMetadata": {
      "byteLimit": 2048000,
      "implicitDf": true,
      "rowLimit": 10000
     },
     "inputWidgets": {},
     "nuid": "fff81e8a-a458-42a4-9ac0-384e5e12994d",
     "showTitle": false,
     "tableResultSettingsMap": {},
     "title": ""
    }
   },
   "outputs": [],
   "source": [
    "spark.sql(\"CREATE SCHEMA IF NOT EXISTS bronze\")"
   ]
  },
  {
   "cell_type": "markdown",
   "metadata": {
    "application/vnd.databricks.v1+cell": {
     "cellMetadata": {
      "byteLimit": 2048000,
      "rowLimit": 10000
     },
     "inputWidgets": {},
     "nuid": "d57a2b72-4e61-4de2-bb0e-cb7b0825844e",
     "showTitle": false,
     "tableResultSettingsMap": {},
     "title": ""
    }
   },
   "source": [
    "Criando e inserindo dados na tabela camp_br_2024 e realizando."
   ]
  },
  {
   "cell_type": "code",
   "execution_count": 0,
   "metadata": {
    "application/vnd.databricks.v1+cell": {
     "cellMetadata": {
      "byteLimit": 2048000,
      "rowLimit": 10000
     },
     "inputWidgets": {},
     "nuid": "9c23cfbb-43e0-4e4a-9dae-9af38a953424",
     "showTitle": false,
     "tableResultSettingsMap": {},
     "title": ""
    }
   },
   "outputs": [],
   "source": [
    "# Apagando a tabela se ela existir no BD Bronze\n",
    "spark.sql(\"DROP TABLE IF EXISTS bronze.camp_br_2024\")\n",
    "\n",
    "# Criando a tabela bruta camp_br_2024\n",
    "df_br2024.write \\\n",
    "    .format(\"delta\") \\\n",
    "    .mode(\"overwrite\") \\\n",
    "    .saveAsTable(\"bronze.camp_br_2024\")\n"
   ]
  },
  {
   "cell_type": "markdown",
   "metadata": {
    "application/vnd.databricks.v1+cell": {
     "cellMetadata": {
      "byteLimit": 2048000,
      "rowLimit": 10000
     },
     "inputWidgets": {},
     "nuid": "9dd34873-95de-4911-bb65-1a0b97db3c7a",
     "showTitle": false,
     "tableResultSettingsMap": {},
     "title": ""
    }
   },
   "source": [
    "### 1.4 - Camada Prata\n",
    "\n",
    "Criando o bando de dados Camada Prata"
   ]
  },
  {
   "cell_type": "code",
   "execution_count": 0,
   "metadata": {
    "application/vnd.databricks.v1+cell": {
     "cellMetadata": {
      "byteLimit": 2048000,
      "rowLimit": 10000
     },
     "inputWidgets": {},
     "nuid": "88ddd9b8-c2bf-4242-b2f9-d79bd02c0953",
     "showTitle": false,
     "tableResultSettingsMap": {},
     "title": ""
    }
   },
   "outputs": [],
   "source": [
    "# Criando banco de dados prata (camada prata)\n",
    "spark.sql(\"CREATE SCHEMA IF NOT EXISTS prata\")\n"
   ]
  },
  {
   "cell_type": "code",
   "execution_count": 0,
   "metadata": {
    "application/vnd.databricks.v1+cell": {
     "cellMetadata": {
      "byteLimit": 2048000,
      "rowLimit": 10000
     },
     "inputWidgets": {},
     "nuid": "b5706ec3-5c6a-458d-9b2f-9fdc9d7e2a30",
     "showTitle": false,
     "tableResultSettingsMap": {},
     "title": ""
    }
   },
   "outputs": [],
   "source": [
    "# Realizando a leitura da tabela bronze\n",
    "df_bronze_camp_br_2024 = spark.read.table(\"bronze.camp_br_2024\")"
   ]
  },
  {
   "cell_type": "markdown",
   "metadata": {
    "application/vnd.databricks.v1+cell": {
     "cellMetadata": {},
     "inputWidgets": {},
     "nuid": "eb776452-67eb-4f73-85d9-129118550213",
     "showTitle": false,
     "tableResultSettingsMap": {},
     "title": ""
    }
   },
   "source": [
    "Criando dicionário para renomear as colunas do dataframe"
   ]
  },
  {
   "cell_type": "code",
   "execution_count": 0,
   "metadata": {
    "application/vnd.databricks.v1+cell": {
     "cellMetadata": {
      "byteLimit": 2048000,
      "rowLimit": 10000
     },
     "inputWidgets": {},
     "nuid": "18de9d05-1801-4bb2-977d-92b90cda927a",
     "showTitle": false,
     "tableResultSettingsMap": {},
     "title": ""
    }
   },
   "outputs": [],
   "source": [
    "# Criando dicionário com novos nomes da coluna\n",
    "colunas_renomeadas = {\n",
    "    \"Jogador\": \"jogador\",\n",
    "    \"Time\": \"time\",\n",
    "    \"#\": \"numero_camisa\",\n",
    "    \"Nação\": \"pais\",\n",
    "    \"Pos.\": \"posicao\",\n",
    "    \"Idade\": \"idade\",\n",
    "    \"Min.\": \"minutos\",\n",
    "    \"Gols\": \"gols\",\n",
    "    \"Assis.\": \"assistencias\",\n",
    "    \"PB\": \"passes_basicos\",\n",
    "    \"PT\": \"passes_totais\",\n",
    "    \"TC\": \"toques_curtos\",\n",
    "    \"CaG\": \"chutes_a_gol\",\n",
    "    \"CrtsA\": \"cartoes_amarelos\",\n",
    "    \"CrtV\": \"cartoes_vermelhos\",\n",
    "    \"Contatos\": \"contatos\",\n",
    "    \"Div\": \"divisoes\",\n",
    "    \"Crts\": \"cruzamentos\",\n",
    "    \"Bloqueios\": \"bloqueios\",\n",
    "    \"xG\": \"xg\",\n",
    "    \"npxG\": \"npxg\",\n",
    "    \"xAG\": \"xag\",\n",
    "    \"SCA\": \"sca\",\n",
    "    \"GCA\": \"gca\",\n",
    "    \"Cmp\": \"passes_completos\",\n",
    "    \"Att\": \"passes_tentados\",\n",
    "    \"Cmp%\": \"porcentagem_passes\",\n",
    "    \"PrgP\": \"passes_prog\",\n",
    "    \"ConduÃ§Ãµes\": \"conducoes\",\n",
    "    \"PrgC\": \"conducoes_prog\",\n",
    "    \"Tent\": \"dribles_tentados\",\n",
    "    \"Suc\": \"dribles_sucesso\",\n",
    "    \"Data\": \"data_partida\",\n",
    "    \"ingestao_data\": \"ingestao_data\"\n",
    "}"
   ]
  },
  {
   "cell_type": "code",
   "execution_count": 0,
   "metadata": {
    "application/vnd.databricks.v1+cell": {
     "cellMetadata": {
      "byteLimit": 2048000,
      "rowLimit": 10000
     },
     "inputWidgets": {},
     "nuid": "8e34fdcd-ba6e-458c-85c0-2965d59a129d",
     "showTitle": false,
     "tableResultSettingsMap": {},
     "title": ""
    }
   },
   "outputs": [],
   "source": [
    "# Aplicando os novos nomes das colunas\n",
    "for original, novo in colunas_renomeadas.items():\n",
    "    df_bronze_camp_br_2024 = df_bronze_camp_br_2024.withColumnRenamed(original, novo)"
   ]
  },
  {
   "cell_type": "markdown",
   "metadata": {
    "application/vnd.databricks.v1+cell": {
     "cellMetadata": {
      "byteLimit": 2048000,
      "rowLimit": 10000
     },
     "inputWidgets": {},
     "nuid": "1e4376ef-f36e-4610-9fdf-703c92cf0687",
     "showTitle": false,
     "tableResultSettingsMap": {},
     "title": ""
    }
   },
   "source": [
    "A campo idade possui valores que não são relevantes, então utilizei um substring para pegar apenas a idade dos jogadores."
   ]
  },
  {
   "cell_type": "code",
   "execution_count": 0,
   "metadata": {
    "application/vnd.databricks.v1+cell": {
     "cellMetadata": {
      "byteLimit": 2048000,
      "rowLimit": 10000
     },
     "inputWidgets": {},
     "nuid": "0aa94d8f-088d-47b4-8208-2e34e2ec760f",
     "showTitle": false,
     "tableResultSettingsMap": {},
     "title": ""
    }
   },
   "outputs": [],
   "source": [
    "df_bronze_camp_br_2024 = df_bronze_camp_br_2024.withColumn(\"idade\", substring(\"idade\", 1, 2))"
   ]
  },
  {
   "cell_type": "markdown",
   "metadata": {
    "application/vnd.databricks.v1+cell": {
     "cellMetadata": {
      "byteLimit": 2048000,
      "rowLimit": 10000
     },
     "inputWidgets": {},
     "nuid": "49c49621-5f8f-4480-ae48-e372168cb85d",
     "showTitle": false,
     "tableResultSettingsMap": {},
     "title": ""
    }
   },
   "source": [
    "Criando tabela camp_br_2024 no BD Prata e inserindo dados."
   ]
  },
  {
   "cell_type": "code",
   "execution_count": 0,
   "metadata": {
    "application/vnd.databricks.v1+cell": {
     "cellMetadata": {
      "byteLimit": 2048000,
      "rowLimit": 10000
     },
     "inputWidgets": {},
     "nuid": "44e1d94d-6aad-4a28-8627-41432a1ff7b3",
     "showTitle": false,
     "tableResultSettingsMap": {},
     "title": ""
    }
   },
   "outputs": [],
   "source": [
    "# Excluindo a tabela se ela existir\n",
    "spark.sql(\"drop table if exists prata.camp_br_2024\")\n",
    "\n",
    "# Gravando a tabela na camada prata\n",
    "df_bronze_camp_br_2024.write.format(\"delta\") \\\n",
    "    .mode(\"overwrite\") \\\n",
    "    .saveAsTable(\"prata.camp_br_2024\")"
   ]
  },
  {
   "cell_type": "code",
   "execution_count": 0,
   "metadata": {
    "application/vnd.databricks.v1+cell": {
     "cellMetadata": {
      "byteLimit": 2048000,
      "rowLimit": 10000
     },
     "inputWidgets": {},
     "nuid": "aa0d08d1-4932-470e-ad2d-6cf8631c022d",
     "showTitle": false,
     "tableResultSettingsMap": {},
     "title": ""
    }
   },
   "outputs": [],
   "source": [
    "# Lê a tabela da camada Prata\n",
    "df_prata_camp_br_2024 = spark.read.table(\"prata.camp_br_2024\")"
   ]
  },
  {
   "cell_type": "markdown",
   "metadata": {
    "application/vnd.databricks.v1+cell": {
     "cellMetadata": {
      "byteLimit": 2048000,
      "rowLimit": 10000
     },
     "inputWidgets": {},
     "nuid": "ae7e7df2-b48c-4c14-9c81-63d9edf16ce0",
     "showTitle": false,
     "tableResultSettingsMap": {},
     "title": ""
    }
   },
   "source": [
    "#### Dimensão Clube\n",
    "\n",
    "Criando a dimensão clube, utilizando como origem a tabela camp_br_2024.\n",
    "\n",
    "tabela: dim_clube"
   ]
  },
  {
   "cell_type": "code",
   "execution_count": 0,
   "metadata": {
    "application/vnd.databricks.v1+cell": {
     "cellMetadata": {
      "byteLimit": 2048000,
      "rowLimit": 10000
     },
     "inputWidgets": {},
     "nuid": "bcb2d3a0-2945-4816-a148-d1401465344e",
     "showTitle": false,
     "tableResultSettingsMap": {},
     "title": ""
    }
   },
   "outputs": [],
   "source": [
    "# Seleciona os nomes dos times distintos\n",
    "df_dim_clube = df_prata_camp_br_2024.select(\"time\") \\\n",
    "                      .distinct() \\\n",
    "                      .withColumnRenamed(\"time\", \"clube\")"
   ]
  },
  {
   "cell_type": "code",
   "execution_count": 0,
   "metadata": {
    "application/vnd.databricks.v1+cell": {
     "cellMetadata": {
      "byteLimit": 2048000,
      "rowLimit": 10000
     },
     "inputWidgets": {},
     "nuid": "2939a9ab-92f8-4c21-8fbb-e1637686ef5a",
     "showTitle": false,
     "tableResultSettingsMap": {},
     "title": ""
    }
   },
   "outputs": [],
   "source": [
    "# Janela para ordenação dos nomes (opcional, só pra manter estabilidade)\n",
    "janela = Window.orderBy(\"clube\")\n",
    "\n",
    "# Adiciona a coluna ID sequencial a partir de 1\n",
    "df_dim_clube = df_dim_clube.withColumn(\"id_clube\", row_number().over(janela))"
   ]
  },
  {
   "cell_type": "markdown",
   "metadata": {
    "application/vnd.databricks.v1+cell": {
     "cellMetadata": {},
     "inputWidgets": {},
     "nuid": "f7d3b8a0-c49f-492e-ac32-7e9100ad198e",
     "showTitle": false,
     "tableResultSettingsMap": {},
     "title": ""
    }
   },
   "source": [
    "Ordenando o dataframe"
   ]
  },
  {
   "cell_type": "code",
   "execution_count": 0,
   "metadata": {
    "application/vnd.databricks.v1+cell": {
     "cellMetadata": {
      "byteLimit": 2048000,
      "rowLimit": 10000
     },
     "inputWidgets": {},
     "nuid": "ab087ebe-7ca4-4128-8a71-f6ceaeed5636",
     "showTitle": false,
     "tableResultSettingsMap": {},
     "title": ""
    }
   },
   "outputs": [],
   "source": [
    "df_dim_clube = df_dim_clube.select(\"id_clube\", \"clube\")"
   ]
  },
  {
   "cell_type": "code",
   "execution_count": 0,
   "metadata": {
    "application/vnd.databricks.v1+cell": {
     "cellMetadata": {
      "byteLimit": 2048000,
      "rowLimit": 10000
     },
     "inputWidgets": {},
     "nuid": "cceed1a8-ae86-47e6-9fb6-fcc8152316cc",
     "showTitle": false,
     "tableResultSettingsMap": {},
     "title": ""
    }
   },
   "outputs": [],
   "source": [
    "df_dim_clube.display()"
   ]
  },
  {
   "cell_type": "markdown",
   "metadata": {
    "application/vnd.databricks.v1+cell": {
     "cellMetadata": {},
     "inputWidgets": {},
     "nuid": "dbac83b4-e7a4-43c2-8570-0d49434ad438",
     "showTitle": false,
     "tableResultSettingsMap": {},
     "title": ""
    }
   },
   "source": [
    "Apagando a tabela, caso exista, e logo em seguida criando novamente na camada prata."
   ]
  },
  {
   "cell_type": "code",
   "execution_count": 0,
   "metadata": {
    "application/vnd.databricks.v1+cell": {
     "cellMetadata": {
      "byteLimit": 2048000,
      "rowLimit": 10000
     },
     "inputWidgets": {},
     "nuid": "40dd0295-bc16-4450-9a7b-796139621aff",
     "showTitle": false,
     "tableResultSettingsMap": {},
     "title": ""
    }
   },
   "outputs": [],
   "source": [
    "spark.sql(\"drop table if exists prata.dim_clube\")\n",
    "\n",
    "# Gravando a dimensao clube na camada prata\n",
    "df_dim_clube.write.format(\"delta\") \\\n",
    "    .mode(\"overwrite\") \\\n",
    "    .saveAsTable(\"prata.dim_clube\")"
   ]
  },
  {
   "cell_type": "code",
   "execution_count": 0,
   "metadata": {
    "application/vnd.databricks.v1+cell": {
     "cellMetadata": {
      "byteLimit": 2048000,
      "implicitDf": true,
      "rowLimit": 10000
     },
     "inputWidgets": {},
     "nuid": "93469040-515d-4c8f-863d-eddb3ce694a2",
     "showTitle": false,
     "tableResultSettingsMap": {},
     "title": ""
    }
   },
   "outputs": [],
   "source": [
    "%sql\n",
    "select * from prata.dim_clube"
   ]
  },
  {
   "cell_type": "markdown",
   "metadata": {
    "application/vnd.databricks.v1+cell": {
     "cellMetadata": {
      "byteLimit": 2048000,
      "rowLimit": 10000
     },
     "inputWidgets": {},
     "nuid": "c65cd1f1-012d-446a-97dd-1fb51e69431e",
     "showTitle": false,
     "tableResultSettingsMap": {},
     "title": ""
    }
   },
   "source": [
    "#### Dimensão Jogador\n",
    "\n",
    "Criando a dimensão jogador, utilizando como origem a tabela camp_br_2024.\n",
    "\n",
    "Tabela: dim_jogador"
   ]
  },
  {
   "cell_type": "markdown",
   "metadata": {
    "application/vnd.databricks.v1+cell": {
     "cellMetadata": {},
     "inputWidgets": {},
     "nuid": "d11bfc0e-8712-4d30-935d-a6a0c04733ce",
     "showTitle": false,
     "tableResultSettingsMap": {},
     "title": ""
    }
   },
   "source": [
    "Foi encontrado um problema, os jogadores estavam com o campo posição não normalizado, existia mais posições dentro do atributo, necessário colocar na 3FN para normalizar. Foi considerado a posição mais recente do jogador, assim como o número da sua camisa. "
   ]
  },
  {
   "cell_type": "code",
   "execution_count": 0,
   "metadata": {
    "application/vnd.databricks.v1+cell": {
     "cellMetadata": {
      "byteLimit": 2048000,
      "rowLimit": 10000
     },
     "inputWidgets": {},
     "nuid": "6d85ff80-dcc7-45c9-8e4d-e31dcb4ec0bd",
     "showTitle": false,
     "tableResultSettingsMap": {},
     "title": ""
    }
   },
   "outputs": [],
   "source": [
    "# Janela por jogador, ordenando pela data mais recente\n",
    "janela = Window.partitionBy(\"jogador\").orderBy(df_prata_camp_br_2024.data_partida.desc())\n",
    "\n",
    "# Adiciona a linha com o número da ordem\n",
    "df_jogador = df_prata_camp_br_2024.withColumn(\"linha\", row_number().over(janela))\n",
    "\n",
    "# Filtra a linha mais recente por jogador\n",
    "df_jogador_recente = df_jogador.filter(\"linha = 1\").select(\"jogador\", \"time\", \"idade\", \"numero_camisa\", \"posicao\")"
   ]
  },
  {
   "cell_type": "code",
   "execution_count": 0,
   "metadata": {
    "application/vnd.databricks.v1+cell": {
     "cellMetadata": {
      "byteLimit": 2048000,
      "rowLimit": 10000
     },
     "inputWidgets": {},
     "nuid": "055532f2-446c-4ee2-9d53-793d5fd8c227",
     "showTitle": false,
     "tableResultSettingsMap": {},
     "title": ""
    }
   },
   "outputs": [],
   "source": [
    "# Seleciona os jogadores\n",
    "df_jogador_recente = df_jogador_recente.select(\"jogador\", \"time\", \"idade\", \"numero_camisa\", \"posicao\").distinct()"
   ]
  },
  {
   "cell_type": "code",
   "execution_count": 0,
   "metadata": {
    "application/vnd.databricks.v1+cell": {
     "cellMetadata": {
      "byteLimit": 2048000,
      "rowLimit": 10000
     },
     "inputWidgets": {},
     "nuid": "9f35a372-818e-407f-a532-41669d3dcf55",
     "showTitle": false,
     "tableResultSettingsMap": {},
     "title": ""
    }
   },
   "outputs": [],
   "source": [
    "# Agrupa por jogador, time e numero_camisa e pega a idade máxima\n",
    "df_jogador_recente = df_jogador_recente.groupBy(\"jogador\", \"time\", \"numero_camisa\").agg(max(\"idade\").alias(\"idade\"))"
   ]
  },
  {
   "cell_type": "code",
   "execution_count": 0,
   "metadata": {
    "application/vnd.databricks.v1+cell": {
     "cellMetadata": {
      "byteLimit": 2048000,
      "rowLimit": 10000
     },
     "inputWidgets": {},
     "nuid": "ca8af1f4-5460-4483-80ad-d6ec8e616b76",
     "showTitle": false,
     "tableResultSettingsMap": {},
     "title": ""
    }
   },
   "outputs": [],
   "source": [
    "df_filtro = df_jogador_recente.filter(df_jogador_recente.time == \"Flamengo\")"
   ]
  },
  {
   "cell_type": "code",
   "execution_count": 0,
   "metadata": {
    "application/vnd.databricks.v1+cell": {
     "cellMetadata": {
      "byteLimit": 2048000,
      "rowLimit": 10000
     },
     "inputWidgets": {},
     "nuid": "6d29acbf-86cc-4ec0-8da6-4df1a5e41584",
     "showTitle": false,
     "tableResultSettingsMap": {},
     "title": ""
    }
   },
   "outputs": [],
   "source": [
    "df_filtro.orderBy(\"jogador\").display()"
   ]
  },
  {
   "cell_type": "code",
   "execution_count": 0,
   "metadata": {
    "application/vnd.databricks.v1+cell": {
     "cellMetadata": {
      "byteLimit": 2048000,
      "rowLimit": 10000
     },
     "inputWidgets": {},
     "nuid": "0e3baf37-2c51-4f09-a053-1b18816ad6f5",
     "showTitle": false,
     "tableResultSettingsMap": {},
     "title": ""
    }
   },
   "outputs": [],
   "source": [
    "# Renomeia as colunas\n",
    "df_jogador = df_jogador_recente.withColumnRenamed(\"jogador\", \"nome\").withColumnRenamed(\"time\", \"clube\").withColumn(\"idade\", substring(\"idade\", 1, 2))\n",
    "\n",
    "df_jogador"
   ]
  },
  {
   "cell_type": "code",
   "execution_count": 0,
   "metadata": {
    "application/vnd.databricks.v1+cell": {
     "cellMetadata": {
      "byteLimit": 2048000,
      "rowLimit": 10000
     },
     "inputWidgets": {},
     "nuid": "51dcb0d2-2bcc-447d-8504-60b61fecddfb",
     "showTitle": false,
     "tableResultSettingsMap": {},
     "title": ""
    }
   },
   "outputs": [],
   "source": [
    "# Cria janela para gerar o ID\n",
    "janela = Window.orderBy(\"nome\", \"clube\")\n",
    "\n",
    "# Adiciona o ID\n",
    "df_jogador = df_jogador.withColumn(\"id_jogador\", row_number().over(janela))"
   ]
  },
  {
   "cell_type": "code",
   "execution_count": 0,
   "metadata": {
    "application/vnd.databricks.v1+cell": {
     "cellMetadata": {
      "byteLimit": 2048000,
      "rowLimit": 10000
     },
     "inputWidgets": {},
     "nuid": "0c5e85c1-e217-41e8-80b0-146f01ab9aac",
     "showTitle": false,
     "tableResultSettingsMap": {},
     "title": ""
    }
   },
   "outputs": [],
   "source": [
    "# Reorganizar colunas\n",
    "df_jogador = df_jogador.select(\"id_jogador\", \"nome\", \"clube\",\"idade\")"
   ]
  },
  {
   "cell_type": "code",
   "execution_count": 0,
   "metadata": {
    "application/vnd.databricks.v1+cell": {
     "cellMetadata": {
      "byteLimit": 2048000,
      "rowLimit": 10000
     },
     "inputWidgets": {},
     "nuid": "e57fd8e0-c894-4b20-8977-7a003346d529",
     "showTitle": false,
     "tableResultSettingsMap": {},
     "title": ""
    }
   },
   "outputs": [],
   "source": [
    "spark.sql(\"drop table if exists prata.dim_jogador\")\n",
    "\n",
    "# Gravando a tabela jogador na camada prata\n",
    "df_jogador.write.format(\"delta\").mode(\"overwrite\").saveAsTable(\"prata.dim_jogador\")"
   ]
  },
  {
   "cell_type": "code",
   "execution_count": 0,
   "metadata": {
    "application/vnd.databricks.v1+cell": {
     "cellMetadata": {
      "byteLimit": 2048000,
      "implicitDf": true,
      "rowLimit": 10000
     },
     "inputWidgets": {},
     "nuid": "1566a4d2-61fb-4961-a256-f85a7e0b607e",
     "showTitle": false,
     "tableResultSettingsMap": {},
     "title": ""
    }
   },
   "outputs": [],
   "source": [
    "%sql\n",
    "select * from prata.dim_jogador"
   ]
  },
  {
   "cell_type": "markdown",
   "metadata": {
    "application/vnd.databricks.v1+cell": {
     "cellMetadata": {
      "byteLimit": 2048000,
      "rowLimit": 10000
     },
     "inputWidgets": {},
     "nuid": "e4ddab87-99ec-428b-8243-b9cd425fe857",
     "showTitle": false,
     "tableResultSettingsMap": {},
     "title": ""
    }
   },
   "source": [
    "#### Dimensão País\n",
    "\n",
    "Criando a dimensão país, utilizando como origem a tabela camp_br_2024.\n",
    "\n",
    "Tabela: dim_pais"
   ]
  },
  {
   "cell_type": "code",
   "execution_count": 0,
   "metadata": {
    "application/vnd.databricks.v1+cell": {
     "cellMetadata": {
      "byteLimit": 2048000,
      "rowLimit": 10000
     },
     "inputWidgets": {},
     "nuid": "6698ed51-55d2-4dab-9110-5786b994c632",
     "showTitle": false,
     "tableResultSettingsMap": {},
     "title": ""
    }
   },
   "outputs": [],
   "source": [
    "# Selecionando os países da fonte de dados\n",
    "df_dim_pais = df_prata_camp_br_2024.select(\"pais\").distinct()"
   ]
  },
  {
   "cell_type": "code",
   "execution_count": 0,
   "metadata": {
    "application/vnd.databricks.v1+cell": {
     "cellMetadata": {
      "byteLimit": 2048000,
      "rowLimit": 10000
     },
     "inputWidgets": {},
     "nuid": "268e400a-324f-4747-95ef-851797dde4a4",
     "showTitle": false,
     "tableResultSettingsMap": {},
     "title": ""
    }
   },
   "outputs": [],
   "source": [
    "df_dim_pais = df_dim_pais.withColumnRenamed(\"pais\", \"sigla_pais\")"
   ]
  },
  {
   "cell_type": "code",
   "execution_count": 0,
   "metadata": {
    "application/vnd.databricks.v1+cell": {
     "cellMetadata": {
      "byteLimit": 2048000,
      "rowLimit": 10000
     },
     "inputWidgets": {},
     "nuid": "83a6c344-6282-42a4-9589-8c4c7a1d919a",
     "showTitle": false,
     "tableResultSettingsMap": {},
     "title": ""
    }
   },
   "outputs": [],
   "source": [
    "# Dicionário de códigos para nomes completos\n",
    "codigo_pais_to_nome = {\n",
    "    \"BRA\": \"Brasil\",\n",
    "    \"FRA\": \"França\",\n",
    "    \"COD\": \"República Democrática do Congo\",\n",
    "    \"ITA\": \"Itália\",\n",
    "    \"PAR\": \"Paraguai\",\n",
    "    \"VEN\": \"Venezuela\",\n",
    "    \"POR\": \"Portugal\",\n",
    "    \"DEN\": \"Dinamarca\",\n",
    "    \"URU\": \"Uruguai\",\n",
    "    \"ANG\": \"Angola\",\n",
    "    \"PER\": \"Peru\",\n",
    "    \"CRC\": \"Costa Rica\",\n",
    "    \"COL\": \"Colômbia\",\n",
    "    \"ARG\": \"Argentina\",\n",
    "    \"ESP\": \"Espanha\",\n",
    "    \"ECU\": \"Equador\",\n",
    "    \"CHI\": \"Chile\",\n",
    "    \"NED\": \"Países Baixos\",\n",
    "    \"SUI\": \"Suíça\",\n",
    "    \"BUL\": \"Bulgária\",\n",
    "    \"NIR\": \"Irlanda do Norte\",\n",
    "    \"NGA\": \"Nigéria\",\n",
    "    \"NCA\": \"Nicarágua\",\n",
    "}"
   ]
  },
  {
   "cell_type": "code",
   "execution_count": 0,
   "metadata": {
    "application/vnd.databricks.v1+cell": {
     "cellMetadata": {
      "byteLimit": 2048000,
      "rowLimit": 10000
     },
     "inputWidgets": {},
     "nuid": "be8be791-3a28-4279-827c-73fbef8182a0",
     "showTitle": false,
     "tableResultSettingsMap": {},
     "title": ""
    }
   },
   "outputs": [],
   "source": [
    "# Cria o mapa para o Spark\n",
    "map_expr = create_map([lit(x) for x in chain(*codigo_pais_to_nome.items())])\n",
    "\n",
    "# Adiciona a coluna de nome completo\n",
    "df_dim_pais = df_dim_pais.withColumn(\"pais\", map_expr.getItem(col(\"sigla_pais\")))"
   ]
  },
  {
   "cell_type": "markdown",
   "metadata": {
    "application/vnd.databricks.v1+cell": {
     "cellMetadata": {
      "byteLimit": 2048000,
      "rowLimit": 10000
     },
     "inputWidgets": {},
     "nuid": "537404d6-77cc-45e4-8b1a-795dbe8e7eed",
     "showTitle": false,
     "tableResultSettingsMap": {},
     "title": ""
    }
   },
   "source": [
    "A tabela está com poucas informações sobre o país, então é necessário realizar o enriquecimento da tabela dimensão país com o atributo continente. "
   ]
  },
  {
   "cell_type": "code",
   "execution_count": 0,
   "metadata": {
    "application/vnd.databricks.v1+cell": {
     "cellMetadata": {
      "byteLimit": 2048000,
      "rowLimit": 10000
     },
     "inputWidgets": {},
     "nuid": "b9c3e58a-c140-4682-86f8-af960666dafc",
     "showTitle": false,
     "tableResultSettingsMap": {},
     "title": ""
    }
   },
   "outputs": [],
   "source": [
    "\n",
    "# Dicionário de países e continentes\n",
    "continente_map = {\n",
    "    \"BRA\": \"América do Sul\",\n",
    "    \"ARG\": \"América do Sul\",\n",
    "    \"URU\": \"América do Sul\",\n",
    "    \"PAR\": \"América do Sul\",\n",
    "    \"CHI\": \"América do Sul\",\n",
    "    \"VEN\": \"América do Sul\",\n",
    "    \"COL\": \"América do Sul\",\n",
    "    \"ECU\": \"América do Sul\",\n",
    "    \"PER\": \"América do Sul\",\n",
    "    \"FRA\": \"Europa\",\n",
    "    \"ITA\": \"Europa\",\n",
    "    \"ESP\": \"Europa\",\n",
    "    \"POR\": \"Europa\",\n",
    "    \"NED\": \"Europa\",\n",
    "    \"SUI\": \"Europa\",\n",
    "    \"BUL\": \"Europa\",\n",
    "    \"NIR\": \"Europa\",\n",
    "    \"DEN\": \"Europa\",\n",
    "    \"COD\": \"África\",\n",
    "    \"ANG\": \"África\",\n",
    "    \"NGA\": \"África\",\n",
    "    \"CRC\": \"América Central\",\n",
    "    \"NCA\": \"América Central\"\n",
    "}\n",
    "\n",
    "# Transformar dicionário em expressão do PySpark\n",
    "map_expr = create_map([lit(x) for x in chain(*continente_map.items())])\n",
    "\n",
    "# Adicionar coluna 'continente'\n",
    "df_dim_pais = df_dim_pais.withColumn(\"continente\", map_expr.getItem(col(\"sigla_pais\")))\n"
   ]
  },
  {
   "cell_type": "code",
   "execution_count": 0,
   "metadata": {
    "application/vnd.databricks.v1+cell": {
     "cellMetadata": {
      "byteLimit": 2048000,
      "rowLimit": 10000
     },
     "inputWidgets": {},
     "nuid": "f7d72ab4-6a6a-43d0-ae30-0eeac52c9599",
     "showTitle": false,
     "tableResultSettingsMap": {},
     "title": ""
    }
   },
   "outputs": [],
   "source": [
    "# Tratando nulos\n",
    "df_dim_pais = df_dim_pais \\\n",
    "    .withColumn(\"pais\",coalesce(col(\"pais\"), lit(\"Não Informado\"))) \\\n",
    "    .withColumn(\"sigla_pais\",coalesce(col(\"sigla_pais\"), lit(\"N/I\")))\\\n",
    "    .withColumn(\"continente\",coalesce(col(\"continente\"), lit(\"Não Informado\")))"
   ]
  },
  {
   "cell_type": "code",
   "execution_count": 0,
   "metadata": {
    "application/vnd.databricks.v1+cell": {
     "cellMetadata": {
      "byteLimit": 2048000,
      "rowLimit": 10000
     },
     "inputWidgets": {},
     "nuid": "ece53dbd-dc04-468e-89b1-1e759c1c3a21",
     "showTitle": false,
     "tableResultSettingsMap": {},
     "title": ""
    }
   },
   "outputs": [],
   "source": [
    "# Cria janela para gerar o ID\n",
    "janela = Window.orderBy(\"sigla_pais\")\n",
    "\n",
    "# Adiciona o ID\n",
    "df_dim_pais = df_dim_pais.withColumn(\"id_pais\", row_number().over(janela))"
   ]
  },
  {
   "cell_type": "code",
   "execution_count": 0,
   "metadata": {
    "application/vnd.databricks.v1+cell": {
     "cellMetadata": {
      "byteLimit": 2048000,
      "rowLimit": 10000
     },
     "inputWidgets": {},
     "nuid": "65c58735-0384-40f0-b476-8eb06a90a58e",
     "showTitle": false,
     "tableResultSettingsMap": {},
     "title": ""
    }
   },
   "outputs": [],
   "source": [
    "# Reorganizar colunas\n",
    "df_dim_pais = df_dim_pais.select(\"id_pais\", \"sigla_pais\", \"pais\",\"continente\")"
   ]
  },
  {
   "cell_type": "code",
   "execution_count": 0,
   "metadata": {
    "application/vnd.databricks.v1+cell": {
     "cellMetadata": {
      "byteLimit": 2048000,
      "rowLimit": 10000
     },
     "inputWidgets": {},
     "nuid": "a9adac57-bfdd-432a-896d-0fbae15db11c",
     "showTitle": false,
     "tableResultSettingsMap": {},
     "title": ""
    }
   },
   "outputs": [],
   "source": [
    "df_dim_pais.display()"
   ]
  },
  {
   "cell_type": "code",
   "execution_count": 0,
   "metadata": {
    "application/vnd.databricks.v1+cell": {
     "cellMetadata": {
      "byteLimit": 2048000,
      "rowLimit": 10000
     },
     "inputWidgets": {},
     "nuid": "ab1d9ccb-ff47-4730-838e-1cbc9ab322ed",
     "showTitle": false,
     "tableResultSettingsMap": {},
     "title": ""
    }
   },
   "outputs": [],
   "source": [
    "spark.sql(\"drop table if exists prata.dim_pais\")\n",
    "\n",
    "# Gravando a dimensao clube na camada prata\n",
    "df_dim_pais.write.format(\"delta\") \\\n",
    "    .mode(\"overwrite\") \\\n",
    "    .saveAsTable(\"prata.dim_pais\")"
   ]
  },
  {
   "cell_type": "code",
   "execution_count": 0,
   "metadata": {
    "application/vnd.databricks.v1+cell": {
     "cellMetadata": {
      "byteLimit": 2048000,
      "implicitDf": true,
      "rowLimit": 10000
     },
     "inputWidgets": {},
     "nuid": "075d33ce-524d-4cfb-bd09-1ebcad909346",
     "showTitle": false,
     "tableResultSettingsMap": {},
     "title": ""
    }
   },
   "outputs": [],
   "source": [
    "%sql\n",
    "select  * from prata.camp_br_2024"
   ]
  },
  {
   "cell_type": "markdown",
   "metadata": {
    "application/vnd.databricks.v1+cell": {
     "cellMetadata": {
      "byteLimit": 2048000,
      "rowLimit": 10000
     },
     "inputWidgets": {},
     "nuid": "d665b996-3452-496a-a158-297ab4ef471a",
     "showTitle": false,
     "tableResultSettingsMap": {},
     "title": ""
    }
   },
   "source": [
    "#### Dimensão Posição\n",
    "\n",
    "Criando a dimensão posição, utilizando como origem a tabela camp_br_2024.\n",
    "\n",
    "Tabela: dim_posicao"
   ]
  },
  {
   "cell_type": "code",
   "execution_count": 0,
   "metadata": {
    "application/vnd.databricks.v1+cell": {
     "cellMetadata": {
      "byteLimit": 2048000,
      "rowLimit": 10000
     },
     "inputWidgets": {},
     "nuid": "e524ba4a-49f5-48b5-99de-a3b0b0e1dad0",
     "showTitle": false,
     "tableResultSettingsMap": {},
     "title": ""
    }
   },
   "outputs": [],
   "source": [
    "# Selecionando os países da fonte de dados\n",
    "df_dim_posicao = df_prata_camp_br_2024.select(\"posicao\").distinct()"
   ]
  },
  {
   "cell_type": "code",
   "execution_count": 0,
   "metadata": {
    "application/vnd.databricks.v1+cell": {
     "cellMetadata": {
      "byteLimit": 2048000,
      "rowLimit": 10000
     },
     "inputWidgets": {},
     "nuid": "4f45ab26-1453-47d0-b7ed-52c2eb274a5b",
     "showTitle": false,
     "tableResultSettingsMap": {},
     "title": ""
    }
   },
   "outputs": [],
   "source": [
    "# Mudar para 3FN\n",
    "\n",
    "# 1. Dividir por vírgula\n",
    "df_split = df_dim_posicao.withColumn(\"posicao\", split(col(\"posicao\"), \",\"))\n",
    "\n",
    "# 2. Explodir em várias linhas\n",
    "df_dim_posicao_normalizado = df_split.select(explode(col(\"posicao\")).alias(\"posicao\")).distinct()\n",
    "\n"
   ]
  },
  {
   "cell_type": "code",
   "execution_count": 0,
   "metadata": {
    "application/vnd.databricks.v1+cell": {
     "cellMetadata": {
      "byteLimit": 2048000,
      "rowLimit": 10000
     },
     "inputWidgets": {},
     "nuid": "2914b6e2-aab5-4655-b0bc-308a32470452",
     "showTitle": false,
     "tableResultSettingsMap": {},
     "title": ""
    }
   },
   "outputs": [],
   "source": [
    "# Criando descrição das posições\n",
    "posicoes_dict = {\n",
    "    \"AM\": \"Meia Ofensivo\",\n",
    "    \"LM\": \"Meia Esquerda\",\n",
    "    \"FW\": \"Atacante\",\n",
    "    \"LB\": \"Lateral Esquerdo\",\n",
    "    \"LW\": \"Ponta Esquerda\",\n",
    "    \"GK\": \"Goleiro\",\n",
    "    \"RB\": \"Lateral Direito\",\n",
    "    \"WB\": \"Ala (Wing Back)\",\n",
    "    \"CM\": \"Meia Central\",\n",
    "    \"RW\": \"Ponta Direita\",\n",
    "    \"DM\": \"Volante\",\n",
    "    \"CB\": \"Zagueiro\",\n",
    "    \"RM\": \"Meia Direita\"\n",
    "}"
   ]
  },
  {
   "cell_type": "code",
   "execution_count": 0,
   "metadata": {
    "application/vnd.databricks.v1+cell": {
     "cellMetadata": {
      "byteLimit": 2048000,
      "rowLimit": 10000
     },
     "inputWidgets": {},
     "nuid": "eb50df21-36e7-420e-89a1-adf61006b769",
     "showTitle": false,
     "tableResultSettingsMap": {},
     "title": ""
    }
   },
   "outputs": [],
   "source": [
    "# Transformar dicionário em expressão do PySpark\n",
    "map_expr = create_map([lit(x) for x in chain(*posicoes_dict.items())])\n",
    "\n",
    "# Adicionar coluna 'continente'\n",
    "df_dim_posicao = df_dim_posicao_normalizado.withColumn(\"posicao_completa\", map_expr.getItem(col(\"posicao\")))"
   ]
  },
  {
   "cell_type": "code",
   "execution_count": 0,
   "metadata": {
    "application/vnd.databricks.v1+cell": {
     "cellMetadata": {
      "byteLimit": 2048000,
      "rowLimit": 10000
     },
     "inputWidgets": {},
     "nuid": "bce2c1d7-23ce-4a16-9bcc-d70413d1d544",
     "showTitle": false,
     "tableResultSettingsMap": {},
     "title": ""
    }
   },
   "outputs": [],
   "source": [
    "# Cria janela para gerar o ID\n",
    "janela = Window.orderBy(\"posicao_completa\")\n",
    "\n",
    "# Adiciona o ID\n",
    "df_dim_posicao = df_dim_posicao.withColumn(\"id_posicao\", row_number().over(janela))\n",
    "\n",
    "# Reorganizar colunas\n",
    "df_dim_posicao = df_dim_posicao.select(\"id_posicao\", \"posicao\", \"posicao_completa\")"
   ]
  },
  {
   "cell_type": "code",
   "execution_count": 0,
   "metadata": {
    "application/vnd.databricks.v1+cell": {
     "cellMetadata": {
      "byteLimit": 2048000,
      "rowLimit": 10000
     },
     "inputWidgets": {},
     "nuid": "ccb8e744-3588-4104-b6a3-b23241745e62",
     "showTitle": false,
     "tableResultSettingsMap": {},
     "title": ""
    }
   },
   "outputs": [],
   "source": [
    "df_dim_posicao = df_dim_posicao.withColumn(\n",
    "    \"tipo_posicao\",\n",
    "    when(col(\"posicao\").isin(\"FW\", \"LW\", \"RW\", \"AM\"), \"Ataque\")\n",
    "    .when(col(\"posicao\").isin(\"CM\", \"DM\", \"RM\", \"LM\"), \"Meio-Campo\")\n",
    "    .when(col(\"posicao\").isin(\"CB\", \"LB\", \"RB\", \"WB\", \"GK\"), \"Defesa\")\n",
    "    .otherwise(\"Desconhecido\")\n",
    ")"
   ]
  },
  {
   "cell_type": "code",
   "execution_count": 0,
   "metadata": {
    "application/vnd.databricks.v1+cell": {
     "cellMetadata": {
      "byteLimit": 2048000,
      "rowLimit": 10000
     },
     "inputWidgets": {},
     "nuid": "8d2f4a35-3f8d-4aa3-8eb9-6dd23a8b6f20",
     "showTitle": false,
     "tableResultSettingsMap": {},
     "title": ""
    }
   },
   "outputs": [],
   "source": [
    "descricao_tatica_dict = {\n",
    "    \"AM\": \"Responsável por criar jogadas ofensivas e conectar o meio com o ataque.\",\n",
    "    \"LM\": \"Atua pela faixa esquerda do meio-campo, apoiando tanto a defesa quanto o ataque.\",\n",
    "    \"FW\": \"Atacante central, com foco em finalizações e presença na área.\",\n",
    "    \"LB\": \"Defensor lateral esquerdo, com funções defensivas e apoio nas subidas ao ataque.\",\n",
    "    \"LW\": \"Extremo esquerdo ofensivo, busca abrir o campo e criar chances de gol.\",\n",
    "    \"GK\": \"Último defensor da equipe, protege o gol e inicia jogadas com os pés ou mãos.\",\n",
    "    \"RB\": \"Defensor lateral direito, participa da construção ofensiva e protege o lado direito.\",\n",
    "    \"WB\": \"Ala com liberdade para atacar e defender pelos lados do campo.\",\n",
    "    \"CM\": \"Meio-campista central com equilíbrio entre defesa e criação de jogadas.\",\n",
    "    \"RW\": \"Extremo direito, busca amplitude ofensiva e cruzamentos para a área.\",\n",
    "    \"DM\": \"Volante responsável por marcar e proteger a linha de defesa.\",\n",
    "    \"CB\": \"Zagueiro central com função de interceptar ataques e organizar a defesa.\",\n",
    "    \"RM\": \"Meia pela direita, faz transição entre defesa e ataque pelo lado do campo.\"\n",
    "}"
   ]
  },
  {
   "cell_type": "code",
   "execution_count": 0,
   "metadata": {
    "application/vnd.databricks.v1+cell": {
     "cellMetadata": {
      "byteLimit": 2048000,
      "rowLimit": 10000
     },
     "inputWidgets": {},
     "nuid": "940ef653-d6a2-435e-b987-9d7bda86d71e",
     "showTitle": false,
     "tableResultSettingsMap": {},
     "title": ""
    }
   },
   "outputs": [],
   "source": [
    "# Transformar dicionário em expressão do PySpark\n",
    "map_expr = create_map([lit(x) for x in chain(*descricao_tatica_dict.items())])\n",
    "\n",
    "# Adicionar coluna 'continente'\n",
    "df_dim_posicao = df_dim_posicao.withColumn(\"descricao_tatica\", map_expr.getItem(col(\"posicao\")))"
   ]
  },
  {
   "cell_type": "code",
   "execution_count": 0,
   "metadata": {
    "application/vnd.databricks.v1+cell": {
     "cellMetadata": {
      "byteLimit": 2048000,
      "rowLimit": 10000
     },
     "inputWidgets": {},
     "nuid": "22a66aad-d5a6-414c-9e19-cf3e4e5de14c",
     "showTitle": false,
     "tableResultSettingsMap": {},
     "title": ""
    }
   },
   "outputs": [],
   "source": [
    "spark.sql(\"drop table if exists prata.dim_posicao\")\n",
    "\n",
    "# Gravando a dimensao clube na camada prata\n",
    "df_dim_posicao.write.format(\"delta\") \\\n",
    "    .mode(\"overwrite\") \\\n",
    "    .saveAsTable(\"prata.dim_posicao\")"
   ]
  },
  {
   "cell_type": "markdown",
   "metadata": {
    "application/vnd.databricks.v1+cell": {
     "cellMetadata": {
      "byteLimit": 2048000,
      "rowLimit": 10000
     },
     "inputWidgets": {},
     "nuid": "25421237-1750-478e-8d4e-1da65045b040",
     "showTitle": false,
     "tableResultSettingsMap": {},
     "title": ""
    }
   },
   "source": [
    "#### Dimensão Tempo\n",
    "\n",
    "Criando a dimensão tempo, utilizando como origem a tabela camp_br_2024.\n",
    "\n",
    "Tabela: dim_tempo"
   ]
  },
  {
   "cell_type": "code",
   "execution_count": 0,
   "metadata": {
    "application/vnd.databricks.v1+cell": {
     "cellMetadata": {
      "byteLimit": 2048000,
      "rowLimit": 10000
     },
     "inputWidgets": {},
     "nuid": "378fbff1-ac81-4eb8-8777-d4ea7065221b",
     "showTitle": false,
     "tableResultSettingsMap": {},
     "title": ""
    }
   },
   "outputs": [],
   "source": [
    "# Definindo intervalo de datas\n",
    "datainicio = datetime(2018, 1, 1)\n",
    "datafim = datetime(2030, 12, 31)"
   ]
  },
  {
   "cell_type": "code",
   "execution_count": 0,
   "metadata": {
    "application/vnd.databricks.v1+cell": {
     "cellMetadata": {
      "byteLimit": 2048000,
      "rowLimit": 10000
     },
     "inputWidgets": {},
     "nuid": "0aede2a2-8000-4ef0-b8e0-db480e576686",
     "showTitle": false,
     "tableResultSettingsMap": {},
     "title": ""
    }
   },
   "outputs": [],
   "source": [
    "# Criando lista de datas\n",
    "data_lista = [(datainicio + timedelta(days=x)) for x in range(0, (datafim - datainicio).days + 1)]\n",
    "\n",
    "# Criando o DataFrame\n",
    "df_dim_tempo = spark.createDataFrame([(d,) for d in data_lista], [\"data\"])"
   ]
  },
  {
   "cell_type": "code",
   "execution_count": 0,
   "metadata": {
    "application/vnd.databricks.v1+cell": {
     "cellMetadata": {
      "byteLimit": 2048000,
      "rowLimit": 10000
     },
     "inputWidgets": {},
     "nuid": "96471ac3-99f0-4db7-a03d-7d8ee7246371",
     "showTitle": false,
     "tableResultSettingsMap": {},
     "title": ""
    }
   },
   "outputs": [],
   "source": [
    "# Adicionando colunas\n",
    "df_dim_tempo = df_dim_tempo.withColumn(\"ano\", year(\"data\")) \\\n",
    "                   .withColumn(\"mes\", month(\"data\")) \\\n",
    "                   .withColumn(\"dia\", date_format(\"data\", \"dd\")) \\\n",
    "                   .withColumn(\"dia_semana\", date_format(\"data\", \"EEEE\")) \\\n",
    "                   .withColumn(\"mes\", date_format(\"data\", \"MMMM\")) \\\n",
    "                   .withColumn(\"trimestre\", ((month(\"data\") - 1) / 3 + 1).cast(\"int\"))"
   ]
  },
  {
   "cell_type": "code",
   "execution_count": 0,
   "metadata": {
    "application/vnd.databricks.v1+cell": {
     "cellMetadata": {
      "byteLimit": 2048000,
      "rowLimit": 10000
     },
     "inputWidgets": {},
     "nuid": "e7892dbb-a00b-48de-ba2d-ee3314b80e56",
     "showTitle": false,
     "tableResultSettingsMap": {},
     "title": ""
    }
   },
   "outputs": [],
   "source": [
    "# Traduzindo os dias da semana\n",
    "df_dim_tempo = df_dim_tempo.withColumn(\n",
    "    \"dia_semana\", when(col(\"dia_semana\") == \"Monday\", \"Segunda-feira\")\n",
    "                 .when(col(\"dia_semana\") == \"Tuesday\", \"Terça-feira\")\n",
    "                 .when(col(\"dia_semana\") == \"Wednesday\", \"Quarta-feira\")\n",
    "                 .when(col(\"dia_semana\") == \"Thursday\", \"Quinta-feira\")\n",
    "                 .when(col(\"dia_semana\") == \"Friday\", \"Sexta-feira\")\n",
    "                 .when(col(\"dia_semana\") == \"Saturday\", \"Sábado\")\n",
    "                 .when(col(\"dia_semana\") == \"Sunday\", \"Domingo\")\n",
    ")"
   ]
  },
  {
   "cell_type": "code",
   "execution_count": 0,
   "metadata": {
    "application/vnd.databricks.v1+cell": {
     "cellMetadata": {
      "byteLimit": 2048000,
      "rowLimit": 10000
     },
     "inputWidgets": {},
     "nuid": "30949506-46a5-4dd1-9c67-5427ec223ceb",
     "showTitle": false,
     "tableResultSettingsMap": {},
     "title": ""
    }
   },
   "outputs": [],
   "source": [
    "# Traduzindo os dias da semana\n",
    "\n",
    "df_dim_tempo = df_dim_tempo.withColumn(\n",
    "          \"mes\",when(col(\"mes\") == \"January\", \"Janeiro\")\n",
    "               .when(col(\"mes\") == \"February\", \"Fevereiro\")\n",
    "               .when(col(\"mes\") == \"March\", \"Março\")\n",
    "               .when(col(\"mes\") == \"April\", \"Abril\")\n",
    "               .when(col(\"mes\") == \"May\", \"Maio\")\n",
    "               .when(col(\"mes\") == \"June\", \"Junho\")\n",
    "               .when(col(\"mes\") == \"July\", \"Julho\")\n",
    "               .when(col(\"mes\") == \"August\", \"Agosto\")\n",
    "               .when(col(\"mes\") == \"September\", \"Setembro\")\n",
    "               .when(col(\"mes\") == \"October\", \"Outubro\")\n",
    "               .when(col(\"mes\") == \"November\", \"Novembro\")\n",
    "               .when(col(\"mes\") == \"December\", \"Dezembro\")\n",
    ")"
   ]
  },
  {
   "cell_type": "code",
   "execution_count": 0,
   "metadata": {
    "application/vnd.databricks.v1+cell": {
     "cellMetadata": {
      "byteLimit": 2048000,
      "rowLimit": 10000
     },
     "inputWidgets": {},
     "nuid": "373fa24e-6664-4a93-986b-46ef555c425a",
     "showTitle": false,
     "tableResultSettingsMap": {},
     "title": ""
    }
   },
   "outputs": [],
   "source": [
    "df_dim_tempo = df_dim_tempo.withColumn(\"data\", to_date(\"data\"))\n"
   ]
  },
  {
   "cell_type": "code",
   "execution_count": 0,
   "metadata": {
    "application/vnd.databricks.v1+cell": {
     "cellMetadata": {
      "byteLimit": 2048000,
      "rowLimit": 10000
     },
     "inputWidgets": {},
     "nuid": "c55222e3-7071-43ea-8af2-c8d3a39da8ac",
     "showTitle": false,
     "tableResultSettingsMap": {},
     "title": ""
    }
   },
   "outputs": [],
   "source": [
    "spark.sql(\"drop table if exists prata.dim_tempo\")\n",
    "\n",
    "# Gravando a dimensao clube na camada prata\n",
    "df_dim_tempo.write.format(\"delta\") \\\n",
    "    .mode(\"overwrite\") \\\n",
    "    .saveAsTable(\"prata.dim_tempo\")"
   ]
  },
  {
   "cell_type": "code",
   "execution_count": 0,
   "metadata": {
    "application/vnd.databricks.v1+cell": {
     "cellMetadata": {
      "byteLimit": 2048000,
      "implicitDf": true,
      "rowLimit": 10000
     },
     "inputWidgets": {},
     "nuid": "8bfbfd67-8524-4149-8d68-070069fff24b",
     "showTitle": false,
     "tableResultSettingsMap": {},
     "title": ""
    }
   },
   "outputs": [],
   "source": [
    "%sql\n",
    "select * from prata.dim_tempo\n",
    "where ano = '2025'"
   ]
  },
  {
   "cell_type": "code",
   "execution_count": 0,
   "metadata": {
    "application/vnd.databricks.v1+cell": {
     "cellMetadata": {
      "byteLimit": 2048000,
      "implicitDf": true,
      "rowLimit": 10000
     },
     "inputWidgets": {},
     "nuid": "4b9aee56-3951-4dee-8355-7e10346d8e0d",
     "showTitle": false,
     "tableResultSettingsMap": {},
     "title": ""
    }
   },
   "outputs": [],
   "source": [
    "%sql\n",
    "select jogador, posicao, time,  round(sum(minutos) / 60, 4) as horas from prata.camp_br_2024\n",
    "group by jogador, posicao, time\n",
    "order by 4 desc"
   ]
  },
  {
   "cell_type": "code",
   "execution_count": 0,
   "metadata": {
    "application/vnd.databricks.v1+cell": {
     "cellMetadata": {
      "byteLimit": 2048000,
      "rowLimit": 10000
     },
     "inputWidgets": {},
     "nuid": "f085ce61-1789-4b30-b181-23cd3c39ce2d",
     "showTitle": false,
     "tableResultSettingsMap": {},
     "title": ""
    }
   },
   "outputs": [],
   "source": [
    "df_prata_camp_br_2024.columns"
   ]
  },
  {
   "cell_type": "markdown",
   "metadata": {
    "application/vnd.databricks.v1+cell": {
     "cellMetadata": {
      "byteLimit": 2048000,
      "rowLimit": 10000
     },
     "inputWidgets": {},
     "nuid": "6fb604e5-a713-4dc0-aaec-a64860a9fe28",
     "showTitle": false,
     "tableResultSettingsMap": {},
     "title": ""
    }
   },
   "source": [
    "#### Fato Desempenho Jogador"
   ]
  },
  {
   "cell_type": "code",
   "execution_count": 0,
   "metadata": {
    "application/vnd.databricks.v1+cell": {
     "cellMetadata": {
      "byteLimit": 2048000,
      "implicitDf": true,
      "rowLimit": 10000
     },
     "inputWidgets": {},
     "nuid": "65ab78fb-f38e-45aa-bf3d-127e4f291397",
     "showTitle": false,
     "tableResultSettingsMap": {},
     "title": ""
    }
   },
   "outputs": [],
   "source": [
    "%sql\n",
    "\n",
    "drop table if exists prata.fato_desempenho_jogador;\n",
    "\n",
    "CREATE OR REPLACE TABLE prata.fato_desempenho_jogador AS\n",
    "SELECT\n",
    "    j.id_jogador,\n",
    "    c.id_clube,\n",
    "    p.id_pais,\n",
    "    pos.id_posicao,\n",
    "    t.data,\n",
    "\n",
    "    e.minutos,\n",
    "    e.gols,\n",
    "    e.assistencias,\n",
    "    e.passes_basicos,\n",
    "    e.passes_totais,\n",
    "    e.toques_curtos,\n",
    "    e.chutes_a_gol,\n",
    "    e.cartoes_amarelos,\n",
    "    e.cartoes_vermelhos,\n",
    "    e.contatos,\n",
    "    e.divisoes,\n",
    "    e.cruzamentos,\n",
    "    e.bloqueios,\n",
    "    e.xg,\n",
    "    e.npxg,\n",
    "    e.xag,\n",
    "    e.sca,\n",
    "    e.gca,\n",
    "    e.passes_completos,\n",
    "    e.passes_tentados,\n",
    "    e.porcentagem_passes,\n",
    "    e.passes_prog,\n",
    "    --e.conducoes,\n",
    "    e.conducoes_prog,\n",
    "    e.dribles_tentados,\n",
    "    e.dribles_sucesso\n",
    "\n",
    "FROM prata.camp_br_2024 e\n",
    "JOIN prata.dim_jogador j    ON e.jogador = j.nome\n",
    "JOIN prata.dim_clube c      ON e.time = c.clube\n",
    "JOIN prata.dim_pais p       ON e.pais = p.sigla_pais\n",
    "JOIN prata.dim_posicao pos  ON e.posicao = pos.posicao\n",
    "JOIN prata.dim_tempo t      ON TO_DATE(e.data_partida) = t.data"
   ]
  },
  {
   "cell_type": "markdown",
   "metadata": {
    "application/vnd.databricks.v1+cell": {
     "cellMetadata": {
      "byteLimit": 2048000,
      "rowLimit": 10000
     },
     "inputWidgets": {},
     "nuid": "81a64c27-4f77-4679-baac-2582f36d181c",
     "showTitle": false,
     "tableResultSettingsMap": {},
     "title": ""
    }
   },
   "source": [
    "Verificando a criação da tabela fato"
   ]
  },
  {
   "cell_type": "markdown",
   "metadata": {
    "application/vnd.databricks.v1+cell": {
     "cellMetadata": {
      "byteLimit": 2048000,
      "rowLimit": 10000
     },
     "inputWidgets": {},
     "nuid": "0218901f-80f8-4f32-a238-f37e7f0539b5",
     "showTitle": false,
     "tableResultSettingsMap": {},
     "title": ""
    }
   },
   "source": [
    "Após realizar uma contagem das linhas da tabela fato, foi identificado 10.480 registros. "
   ]
  },
  {
   "cell_type": "markdown",
   "metadata": {
    "application/vnd.databricks.v1+cell": {
     "cellMetadata": {
      "byteLimit": 2048000,
      "rowLimit": 10000
     },
     "inputWidgets": {},
     "nuid": "22e90747-3774-4465-b786-5d38ed7f9516",
     "showTitle": false,
     "tableResultSettingsMap": {},
     "title": ""
    },
    "jupyter": {
     "outputs_hidden": true
    }
   },
   "source": [
    "### 1.5 - Camada Ouro\n",
    "\n",
    "Criando a camada ouro (Banco de dados ouro)."
   ]
  },
  {
   "cell_type": "code",
   "execution_count": 0,
   "metadata": {
    "application/vnd.databricks.v1+cell": {
     "cellMetadata": {
      "byteLimit": 2048000,
      "rowLimit": 10000
     },
     "inputWidgets": {},
     "nuid": "7d4874ad-873d-40ff-a891-8bd5b636dacd",
     "showTitle": false,
     "tableResultSettingsMap": {},
     "title": ""
    }
   },
   "outputs": [],
   "source": [
    "# Criando banco de dados ouro (camada ouro)\n",
    "spark.sql(\"CREATE SCHEMA IF NOT EXISTS ouro\")"
   ]
  },
  {
   "cell_type": "code",
   "execution_count": 0,
   "metadata": {
    "application/vnd.databricks.v1+cell": {
     "cellMetadata": {
      "byteLimit": 2048000,
      "implicitDf": true,
      "rowLimit": 10000
     },
     "inputWidgets": {},
     "nuid": "a29451fa-ab9e-45da-8f17-936a9f29656d",
     "showTitle": false,
     "tableResultSettingsMap": {},
     "title": ""
    }
   },
   "outputs": [],
   "source": [
    "%sql \n",
    "\n",
    "select * from  prata.fato_desempenho_jogador"
   ]
  },
  {
   "cell_type": "markdown",
   "metadata": {
    "application/vnd.databricks.v1+cell": {
     "cellMetadata": {
      "byteLimit": 2048000,
      "rowLimit": 10000
     },
     "inputWidgets": {},
     "nuid": "392e05c1-5879-4b3a-8ab1-eb22086dc39d",
     "showTitle": false,
     "tableResultSettingsMap": {},
     "title": ""
    }
   },
   "source": [
    "#### View vw_desempenho\n",
    "\n",
    "Criando view de desempenho dos jogadores."
   ]
  },
  {
   "cell_type": "code",
   "execution_count": 0,
   "metadata": {
    "application/vnd.databricks.v1+cell": {
     "cellMetadata": {
      "byteLimit": 2048000,
      "implicitDf": true,
      "rowLimit": 10000
     },
     "inputWidgets": {},
     "nuid": "693a2944-0542-46c8-8763-1c3b09d3bba0",
     "showTitle": false,
     "tableResultSettingsMap": {},
     "title": ""
    }
   },
   "outputs": [],
   "source": [
    "%sql\n",
    "CREATE OR REPLACE VIEW ouro.vw_desempenho AS\n",
    "\n",
    "SELECT \n",
    "    j.nome as nome_jogador,\n",
    "    j.idade,\n",
    "    pos.posicao_completa as posicao,\n",
    "    pos.tipo_posicao,\n",
    "    c.clube,\n",
    "    p.pais,\n",
    "    p.continente,\n",
    "    t.data as data_partida,\n",
    "    f.minutos,\n",
    "    f.gols,\n",
    "    f.assistencias,\n",
    "    f.passes_basicos,\n",
    "    f.toques_curtos,\n",
    "    f.dribles_tentados,\n",
    "    f.dribles_sucesso,\n",
    "    f.cartoes_amarelos as cartao_amarelo,\n",
    "    f.cartoes_vermelhos as cartao_vermelho\n",
    "FROM \n",
    "    prata.fato_desempenho_jogador f\n",
    "\n",
    "LEFT JOIN prata.dim_jogador j \n",
    "  ON f.id_jogador = j.id_jogador\n",
    "\n",
    "LEFT JOIN prata.dim_clube c \n",
    "  ON f.id_clube = c.id_clube\n",
    "\n",
    "LEFT JOIN prata.dim_pais p \n",
    "  ON f.id_pais = p.id_pais\n",
    "\n",
    "LEFT JOIN prata.dim_posicao pos \n",
    "  ON f.id_posicao = pos.id_posicao\n",
    "\n",
    "LEFT JOIN prata.dim_tempo t \n",
    "  ON f.data = t.data"
   ]
  },
  {
   "cell_type": "markdown",
   "metadata": {
    "application/vnd.databricks.v1+cell": {
     "cellMetadata": {
      "byteLimit": 2048000,
      "rowLimit": 10000
     },
     "inputWidgets": {},
     "nuid": "750fc544-d49b-4020-bda7-892893c8459b",
     "showTitle": false,
     "tableResultSettingsMap": {},
     "title": ""
    }
   },
   "source": [
    "### 1.6 - Perguntas e Respostas"
   ]
  },
  {
   "cell_type": "markdown",
   "metadata": {
    "application/vnd.databricks.v1+cell": {
     "cellMetadata": {
      "byteLimit": 2048000,
      "rowLimit": 10000
     },
     "inputWidgets": {},
     "nuid": "e4604dd3-8485-450b-bf3f-f941172d75eb",
     "showTitle": false,
     "tableResultSettingsMap": {},
     "title": ""
    }
   },
   "source": [
    "####Pergunta 01\n",
    "Qual jogador com maior participação em gols? "
   ]
  },
  {
   "cell_type": "code",
   "execution_count": 0,
   "metadata": {
    "application/vnd.databricks.v1+cell": {
     "cellMetadata": {
      "byteLimit": 2048000,
      "implicitDf": true,
      "rowLimit": 10000
     },
     "inputWidgets": {},
     "nuid": "7e2fb794-7baf-422f-9930-141b6cb2b87f",
     "showTitle": false,
     "tableResultSettingsMap": {},
     "title": ""
    }
   },
   "outputs": [],
   "source": [
    "%sql\n",
    "\n",
    "select nome_jogador, clube, sum(assistencias+gols) as participacao_gol  \n",
    "from ouro.vw_desempenho\n",
    "group by nome_jogador, clube\n",
    "order by sum(assistencias+gols) desc\n",
    "limit 5"
   ]
  },
  {
   "cell_type": "markdown",
   "metadata": {
    "application/vnd.databricks.v1+cell": {
     "cellMetadata": {
      "byteLimit": 2048000,
      "rowLimit": 10000
     },
     "inputWidgets": {},
     "nuid": "f07b4481-22b9-47e2-95f4-075828bcf778",
     "showTitle": false,
     "tableResultSettingsMap": {},
     "title": ""
    }
   },
   "source": [
    "##### Resposta 01\n",
    "O Estevão do Palmeiras é o jogador com maior participação em gols no campeontato BR, logo em seguida tem Rodrigo Garro e Alerrandro."
   ]
  },
  {
   "cell_type": "markdown",
   "metadata": {
    "application/vnd.databricks.v1+cell": {
     "cellMetadata": {
      "byteLimit": 2048000,
      "rowLimit": 10000
     },
     "inputWidgets": {},
     "nuid": "657eb0a0-b578-472a-b485-1ebb68a44aa7",
     "showTitle": false,
     "tableResultSettingsMap": {},
     "title": ""
    }
   },
   "source": [
    "#### Pergunta 02\n",
    "Quais jogadores com mais tempo de jogo?"
   ]
  },
  {
   "cell_type": "code",
   "execution_count": 0,
   "metadata": {
    "application/vnd.databricks.v1+cell": {
     "cellMetadata": {
      "byteLimit": 2048000,
      "implicitDf": true,
      "rowLimit": 10000
     },
     "inputWidgets": {},
     "nuid": "42b0d93b-c749-4d82-a5a9-f8e1b8d70d39",
     "showTitle": false,
     "tableResultSettingsMap": {},
     "title": ""
    }
   },
   "outputs": [],
   "source": [
    "%sql\n",
    "select nome_jogador, clube, sum(minutos) \n",
    "from ouro.vw_desempenho\n",
    "group by nome_jogador, clube\n",
    "order by sum(minutos)  desc\n",
    "limit 10"
   ]
  },
  {
   "cell_type": "markdown",
   "metadata": {
    "application/vnd.databricks.v1+cell": {
     "cellMetadata": {
      "byteLimit": 2048000,
      "rowLimit": 10000
     },
     "inputWidgets": {},
     "nuid": "19e48883-a9ba-4bfa-ba98-471569db95b6",
     "showTitle": false,
     "tableResultSettingsMap": {},
     "title": ""
    }
   },
   "source": [
    "##### Resposta 02\n",
    "Léo Jardim do Vasco da Gama, e João Ricardo do Fortaleza, são os jogadores com maior minutagem de jogo.\n"
   ]
  },
  {
   "cell_type": "markdown",
   "metadata": {
    "application/vnd.databricks.v1+cell": {
     "cellMetadata": {
      "byteLimit": 2048000,
      "rowLimit": 10000
     },
     "inputWidgets": {},
     "nuid": "512f89ad-dc94-4129-b424-b3f636a9b8f3",
     "showTitle": false,
     "tableResultSettingsMap": {},
     "title": ""
    }
   },
   "source": [
    "#### Pergunta 03\n",
    "Top 10 Jogadores com mais minutos jogados têm melhor desempenho ofensivo?"
   ]
  },
  {
   "cell_type": "code",
   "execution_count": 0,
   "metadata": {
    "application/vnd.databricks.v1+cell": {
     "cellMetadata": {
      "byteLimit": 2048000,
      "implicitDf": true,
      "rowLimit": 10000
     },
     "inputWidgets": {},
     "nuid": "0fc00c9c-77f4-4b13-895b-e8f537478781",
     "showTitle": false,
     "tableResultSettingsMap": {},
     "title": ""
    }
   },
   "outputs": [],
   "source": [
    "%sql\n",
    "select nome_jogador, clube, round(sum(gols/minutos),4) as gols_minuto, sum(gols), sum(minutos), round(sum(minutos/60),4) as horas \n",
    "from ouro.vw_desempenho\n",
    "group by nome_jogador, clube\n",
    "order by sum(gols/minutos) desc\n",
    "limit 10"
   ]
  },
  {
   "cell_type": "markdown",
   "metadata": {
    "application/vnd.databricks.v1+cell": {
     "cellMetadata": {
      "byteLimit": 2048000,
      "rowLimit": 10000
     },
     "inputWidgets": {},
     "nuid": "74745d77-9b4d-4c72-8714-87486fcadc9f",
     "showTitle": false,
     "tableResultSettingsMap": {},
     "title": ""
    }
   },
   "source": [
    "##### Resposta 02\n",
    "O jogador do Atlético Goianiense Mateo Zuleta, ficou apenas 27 minutos em campo e fez 1 gol, lidera o ranking de mais participações em gols. "
   ]
  },
  {
   "cell_type": "markdown",
   "metadata": {
    "application/vnd.databricks.v1+cell": {
     "cellMetadata": {
      "byteLimit": 2048000,
      "rowLimit": 10000
     },
     "inputWidgets": {},
     "nuid": "d53d2542-eae7-4c1f-bc6b-e2df9549207f",
     "showTitle": false,
     "tableResultSettingsMap": {},
     "title": ""
    }
   },
   "source": [
    "#### Pergunta 04\n",
    "Quantidade de jogadores por país? "
   ]
  },
  {
   "cell_type": "code",
   "execution_count": 0,
   "metadata": {
    "application/vnd.databricks.v1+cell": {
     "cellMetadata": {
      "byteLimit": 2048000,
      "implicitDf": true,
      "rowLimit": 10000
     },
     "inputWidgets": {},
     "nuid": "1f1468af-91bb-4380-8ad0-3140f3d5bf2b",
     "showTitle": false,
     "tableResultSettingsMap": {},
     "title": ""
    }
   },
   "outputs": [],
   "source": [
    "%sql\n",
    "select pais, count(distinct nome_jogador) qtd_jogador \n",
    "from ouro.vw_desempenho\n",
    "group by pais\n",
    "order by count( distinct nome_jogador) desc"
   ]
  },
  {
   "cell_type": "markdown",
   "metadata": {
    "application/vnd.databricks.v1+cell": {
     "cellMetadata": {
      "byteLimit": 2048000,
      "rowLimit": 10000
     },
     "inputWidgets": {},
     "nuid": "da108cc9-d8f9-43a6-900c-1e1a70c54a6f",
     "showTitle": false,
     "tableResultSettingsMap": {},
     "title": ""
    }
   },
   "source": [
    "##### Resposta 04 \n",
    "Pesquisa realizada com ordenação decrescente com relação a quantidade de jogadores por país (nacionalidade). O Brasil possui 495 jogadores nos clubes, Argentina possui 47 jogadores. "
   ]
  },
  {
   "cell_type": "markdown",
   "metadata": {
    "application/vnd.databricks.v1+cell": {
     "cellMetadata": {
      "byteLimit": 2048000,
      "rowLimit": 10000
     },
     "inputWidgets": {},
     "nuid": "123e3bf0-8773-44ea-b94f-64ba0067ebb2",
     "showTitle": false,
     "tableResultSettingsMap": {},
     "title": ""
    }
   },
   "source": [
    "#### Pergunta 05 \n",
    "Clubes com mais jogadores estrangeiros?"
   ]
  },
  {
   "cell_type": "code",
   "execution_count": 0,
   "metadata": {
    "application/vnd.databricks.v1+cell": {
     "cellMetadata": {
      "byteLimit": 2048000,
      "implicitDf": true,
      "rowLimit": 10000
     },
     "inputWidgets": {},
     "nuid": "ee280d47-cf75-477c-b344-37cd204a8f6e",
     "showTitle": false,
     "tableResultSettingsMap": {},
     "title": ""
    }
   },
   "outputs": [],
   "source": [
    "%sql\n",
    "select clube, count( distinct nome_jogador) qtd_jogador \n",
    "from ouro.vw_desempenho\n",
    "where pais <> 'Brasil'\n",
    "group by clube\n",
    "order by count(distinct nome_jogador) desc "
   ]
  },
  {
   "cell_type": "markdown",
   "metadata": {
    "application/vnd.databricks.v1+cell": {
     "cellMetadata": {
      "byteLimit": 2048000,
      "rowLimit": 10000
     },
     "inputWidgets": {},
     "nuid": "156416c0-c685-42a7-b686-d37c3a3f7a93",
     "showTitle": false,
     "tableResultSettingsMap": {},
     "title": ""
    }
   },
   "source": [
    "##### Resposta 05\n",
    "O Grêmio é o clube com mais jogadores estrangeiros, totalizando 13.  O Internacional aparece em segundo, possui 11 jogadores estrangeiros. Curiosamente os times do sul contratam mais jogadores estrangeiros."
   ]
  },
  {
   "cell_type": "markdown",
   "metadata": {
    "application/vnd.databricks.v1+cell": {
     "cellMetadata": {
      "byteLimit": 2048000,
      "rowLimit": 10000
     },
     "inputWidgets": {},
     "nuid": "27bb59a0-a4c5-4847-946c-4f49f8530727",
     "showTitle": false,
     "tableResultSettingsMap": {},
     "title": ""
    }
   },
   "source": [
    "####Pergunta 06\n",
    "Quais os jogadores que tomaram mais cartões no campeonato?"
   ]
  },
  {
   "cell_type": "code",
   "execution_count": 0,
   "metadata": {
    "application/vnd.databricks.v1+cell": {
     "cellMetadata": {
      "byteLimit": 2048000,
      "implicitDf": true,
      "rowLimit": 10000
     },
     "inputWidgets": {},
     "nuid": "2ca20cbc-b5da-4ee1-a6ea-e2c7690b566f",
     "showTitle": false,
     "tableResultSettingsMap": {},
     "title": ""
    }
   },
   "outputs": [],
   "source": [
    "%sql\n",
    "select \n",
    "  nome_jogador, \n",
    "  clube, \n",
    "  sum(cartao_amarelo + cartao_vermelho) as qtd_cartoes, \n",
    "  sum(cartao_amarelo) , \n",
    "  sum(cartao_vermelho)\n",
    "from ouro.vw_desempenho\n",
    "group by nome_jogador, clube\n",
    "order by sum(cartao_amarelo + cartao_vermelho) desc\n",
    "limit 10\n"
   ]
  },
  {
   "cell_type": "markdown",
   "metadata": {
    "application/vnd.databricks.v1+cell": {
     "cellMetadata": {
      "byteLimit": 2048000,
      "rowLimit": 10000
     },
     "inputWidgets": {},
     "nuid": "80df90f2-f9e4-4c1b-9fca-2b40c2687bdf",
     "showTitle": false,
     "tableResultSettingsMap": {},
     "title": ""
    }
   },
   "source": [
    "##### Resposta 06\n",
    "O jogador Zé Marcos do Juventude foi o atleta que mais levou cartões durante o campeoanto, totalizando 12 amarelos e 2 vermelhos. "
   ]
  },
  {
   "cell_type": "markdown",
   "metadata": {
    "application/vnd.databricks.v1+cell": {
     "cellMetadata": {},
     "inputWidgets": {},
     "nuid": "c9b80c22-f7b6-42aa-8629-6bf078933d22",
     "showTitle": false,
     "tableResultSettingsMap": {},
     "title": ""
    }
   },
   "source": [
    "#### Pergunta 07\n",
    "Qual o total de gols do campeonato, listar o top 5 artilheiros e os líderes em assistencia? "
   ]
  },
  {
   "cell_type": "code",
   "execution_count": 0,
   "metadata": {
    "application/vnd.databricks.v1+cell": {
     "cellMetadata": {
      "byteLimit": 2048000,
      "implicitDf": true,
      "rowLimit": 10000
     },
     "inputWidgets": {},
     "nuid": "ecc57471-dacb-4d97-9cc0-ed9061972a0a",
     "showTitle": false,
     "tableResultSettingsMap": {},
     "title": ""
    }
   },
   "outputs": [],
   "source": [
    "%sql\n",
    "select sum(gols) total_gols, round(avg(gols),4) media_gols from ouro.vw_desempenho"
   ]
  },
  {
   "cell_type": "markdown",
   "metadata": {
    "application/vnd.databricks.v1+cell": {
     "cellMetadata": {},
     "inputWidgets": {},
     "nuid": "35fa9ce0-117a-4a34-ac83-2547ef263658",
     "showTitle": false,
     "tableResultSettingsMap": {},
     "title": ""
    }
   },
   "source": [
    "O campeonato teve 782 gols."
   ]
  },
  {
   "cell_type": "code",
   "execution_count": 0,
   "metadata": {
    "application/vnd.databricks.v1+cell": {
     "cellMetadata": {
      "byteLimit": 2048000,
      "implicitDf": true,
      "rowLimit": 10000
     },
     "inputWidgets": {},
     "nuid": "f41e5a8f-3e0f-48b6-8a7e-7b745df8c2b8",
     "showTitle": false,
     "tableResultSettingsMap": {},
     "title": ""
    }
   },
   "outputs": [],
   "source": [
    "%sql\n",
    "select nome_jogador, clube, sum(gols) \n",
    "from ouro.vw_desempenho\n",
    "group by nome_jogador, clube\n",
    "order by sum(gols) desc\n",
    "limit 5"
   ]
  },
  {
   "cell_type": "code",
   "execution_count": 0,
   "metadata": {
    "application/vnd.databricks.v1+cell": {
     "cellMetadata": {
      "byteLimit": 2048000,
      "implicitDf": true,
      "rowLimit": 10000
     },
     "inputWidgets": {},
     "nuid": "135edf89-14e5-4ce6-853a-aba562322006",
     "showTitle": false,
     "tableResultSettingsMap": {},
     "title": ""
    }
   },
   "outputs": [],
   "source": [
    "%sql\n",
    "select nome_jogador, clube, sum(assistencias) \n",
    "from ouro.vw_desempenho\n",
    "group by nome_jogador, clube\n",
    "order by sum(assistencias) desc\n",
    "limit 5"
   ]
  },
  {
   "cell_type": "markdown",
   "metadata": {
    "application/vnd.databricks.v1+cell": {
     "cellMetadata": {},
     "inputWidgets": {},
     "nuid": "46f8c939-4264-419f-b1db-d88018205365",
     "showTitle": false,
     "tableResultSettingsMap": {},
     "title": ""
    }
   },
   "source": [
    "##### Resposta 07\n",
    "- O campeonato brasileiro 2024 teve 782 gols. \n",
    "- O artileiro do Brasileirão foi o Alerrandro do Vitória com 15 gols. \n",
    "- O líder em assistência foi o Rodrigo Garro do Corinthians, com 10 passes para gols."
   ]
  },
  {
   "cell_type": "markdown",
   "metadata": {
    "application/vnd.databricks.v1+cell": {
     "cellMetadata": {},
     "inputWidgets": {},
     "nuid": "b5de7045-60ea-42d0-b6a7-538685e6d7e6",
     "showTitle": false,
     "tableResultSettingsMap": {},
     "title": ""
    }
   },
   "source": [
    "#### Pergunta 08\n",
    "Qual o clube com o maior numero de gols? Qual o clube com a maior média de gols por jogador?"
   ]
  },
  {
   "cell_type": "code",
   "execution_count": 0,
   "metadata": {
    "application/vnd.databricks.v1+cell": {
     "cellMetadata": {
      "byteLimit": 2048000,
      "implicitDf": true,
      "rowLimit": 10000
     },
     "inputWidgets": {},
     "nuid": "426de47f-1c87-4370-8bdc-b33682524208",
     "showTitle": false,
     "tableResultSettingsMap": {},
     "title": ""
    }
   },
   "outputs": [],
   "source": [
    "%sql\n",
    "select \n",
    "  clube, \n",
    "  sum(gols) total_gols, \n",
    "  count(distinct nome_jogador) qtd_jogador, \n",
    "  round(sum(gols) / count(distinct nome_jogador),4) as media_gols_jogadores \n",
    "from ouro.vw_desempenho\n",
    "group by clube\n",
    "order by sum(gols) desc\n",
    "limit 5"
   ]
  },
  {
   "cell_type": "code",
   "execution_count": 0,
   "metadata": {
    "application/vnd.databricks.v1+cell": {
     "cellMetadata": {
      "byteLimit": 2048000,
      "implicitDf": true,
      "rowLimit": 10000
     },
     "inputWidgets": {},
     "nuid": "16d5150d-1354-46fe-813b-693c72b4935c",
     "showTitle": false,
     "tableResultSettingsMap": {},
     "title": ""
    }
   },
   "outputs": [],
   "source": [
    "%sql\n",
    "select \n",
    "  clube, \n",
    "  sum(gols) total_gols, \n",
    "  count(distinct nome_jogador) qtd_jogador, \n",
    "  round(sum(gols) / count(distinct nome_jogador),4) as media_gols_jogadores \n",
    "from ouro.vw_desempenho\n",
    "group by clube\n",
    "order by round(sum(gols) / count(distinct nome_jogador),4) desc\n",
    "limit 5"
   ]
  },
  {
   "cell_type": "markdown",
   "metadata": {
    "application/vnd.databricks.v1+cell": {
     "cellMetadata": {},
     "inputWidgets": {},
     "nuid": "81f57047-a7d8-424c-ba97-ffcd0dd3c164",
     "showTitle": false,
     "tableResultSettingsMap": {},
     "title": ""
    }
   },
   "source": [
    "##### Resposta 08\n",
    "\n",
    "- O Flamengo é o clube com o maior numero de gols, totalizando 51 gols na temporada. \n",
    "- O Fortaleza é o clube com a maior média de gols por jogadores, possui uma média de 1,5 gols. São 43 gols por 28 jogadores no clube, então o clube possui uma grande efetividade ofensiva no seu elenco. "
   ]
  },
  {
   "cell_type": "markdown",
   "metadata": {
    "application/vnd.databricks.v1+cell": {
     "cellMetadata": {},
     "inputWidgets": {},
     "nuid": "f879767d-a4e6-4a38-a38f-7b78b6f5aeef",
     "showTitle": false,
     "tableResultSettingsMap": {},
     "title": ""
    }
   },
   "source": [
    "#### Pergunta 09\n",
    "Quais os jogadores com maior número de dribles certos?"
   ]
  },
  {
   "cell_type": "code",
   "execution_count": 0,
   "metadata": {
    "application/vnd.databricks.v1+cell": {
     "cellMetadata": {
      "byteLimit": 2048000,
      "implicitDf": true,
      "rowLimit": 10000
     },
     "inputWidgets": {},
     "nuid": "bda0a7d3-117e-4fc3-a390-c5157bb66d50",
     "showTitle": false,
     "tableResultSettingsMap": {},
     "title": ""
    }
   },
   "outputs": [],
   "source": [
    "%sql\n",
    "SELECT \n",
    "    t.ano,\n",
    "    t.mes,\n",
    "    SUM(f.gols) AS total_gols\n",
    "FROM \n",
    "    prata.fato_desempenho_jogador f\n",
    "JOIN \n",
    "    prata.dim_tempo t ON f.data = t.data\n",
    "GROUP BY \n",
    "    t.ano, t.mes\n",
    "ORDER BY \n",
    "    t.ano, \n",
    "    CASE \n",
    "        WHEN t.mes = 'Janeiro' THEN 1\n",
    "        WHEN t.mes = 'Fevereiro' THEN 2\n",
    "        WHEN t.mes = 'Março' THEN 3\n",
    "        WHEN t.mes = 'Abril' THEN 4\n",
    "        WHEN t.mes = 'Maio' THEN 5\n",
    "        WHEN t.mes = 'Junho' THEN 6\n",
    "        WHEN t.mes = 'Julho' THEN 7\n",
    "        WHEN t.mes = 'Agosto' THEN 8\n",
    "        WHEN t.mes = 'Setembro' THEN 9\n",
    "        WHEN t.mes = 'Outubro' THEN 10\n",
    "        WHEN t.mes = 'Novembro' THEN 11\n",
    "        WHEN t.mes = 'Dezembro' THEN 12\n",
    "    END;"
   ]
  },
  {
   "cell_type": "code",
   "execution_count": 0,
   "metadata": {
    "application/vnd.databricks.v1+cell": {
     "cellMetadata": {
      "byteLimit": 2048000,
      "implicitDf": true,
      "rowLimit": 10000
     },
     "inputWidgets": {},
     "nuid": "cc700513-ecfb-43a2-a3d6-4cc77ec80799",
     "showTitle": false,
     "tableResultSettingsMap": {},
     "title": ""
    }
   },
   "outputs": [],
   "source": [
    "%sql\n",
    "select nome_jogador, clube, sum(dribles_sucesso) \n",
    "from ouro.vw_desempenho\n",
    "group by nome_jogador, clube\n",
    "order by sum(dribles_sucesso) desc\n",
    "limit 5"
   ]
  },
  {
   "cell_type": "code",
   "execution_count": 0,
   "metadata": {
    "application/vnd.databricks.v1+cell": {
     "cellMetadata": {
      "byteLimit": 2048000,
      "implicitDf": true,
      "rowLimit": 10000
     },
     "inputWidgets": {},
     "nuid": "36ecd3cd-62d3-41c6-9b36-c7e01d76893d",
     "showTitle": false,
     "tableResultSettingsMap": {},
     "title": ""
    }
   },
   "outputs": [],
   "source": [
    "%sql\n",
    "select \n",
    "  nome_jogador, \n",
    "  clube, \n",
    "  sum(dribles_tentados), \n",
    "  sum(dribles_sucesso), \n",
    "  round((sum(dribles_sucesso) / sum(dribles_tentados) ),4) * 100 as percentual_dribles \n",
    "from ouro.vw_desempenho\n",
    "group by nome_jogador, clube\n",
    "order by sum(dribles_sucesso) desc\n",
    "limit 10"
   ]
  },
  {
   "cell_type": "markdown",
   "metadata": {
    "application/vnd.databricks.v1+cell": {
     "cellMetadata": {},
     "inputWidgets": {},
     "nuid": "149fb0d0-1099-43c4-aabf-6f6fd2b0662c",
     "showTitle": false,
     "tableResultSettingsMap": {},
     "title": ""
    }
   },
   "source": [
    "##### Resposta 09\n",
    "- Luiz Henrique o Botafogo é o jogador com a maior quantidade de dribles certos, 82 dribles, existe uma diferença de 14 dribles, que é bem considerável para o segundo colocado que é o Estevão do Palmeiras com 68 dribles certos. \n",
    "- Luiz Henrique acertou 57% desses dribles, dentro do top 10 maiores dribladores do campeonato, cabe um destaque para o Denilson do Cuiabá, que possui 68,4 % de acertos nos dribles. "
   ]
  },
  {
   "cell_type": "markdown",
   "metadata": {
    "application/vnd.databricks.v1+cell": {
     "cellMetadata": {},
     "inputWidgets": {},
     "nuid": "5edfefd7-39c7-4f39-b74e-658a921e9d80",
     "showTitle": false,
     "tableResultSettingsMap": {},
     "title": ""
    }
   },
   "source": [
    "#### Pergunta 10\n",
    "Evolução dos gols ao longo do campeonato (por mês ou rodada). "
   ]
  },
  {
   "cell_type": "code",
   "execution_count": 0,
   "metadata": {
    "application/vnd.databricks.v1+cell": {
     "cellMetadata": {
      "byteLimit": 2048000,
      "rowLimit": 10000
     },
     "inputWidgets": {},
     "nuid": "cd69cf95-e128-4886-8475-8a4f9f8250b8",
     "showTitle": false,
     "tableResultSettingsMap": {},
     "title": ""
    }
   },
   "outputs": [],
   "source": [
    "# Plot\n",
    "plt.figure(figsize=(12,6))\n",
    "bars = plt.bar(df['mes'], df['total_gols'], color='royalblue')\n",
    "plt.title('Evolução dos Gols por Mês - Campeonato Brasileiro 2024')\n",
    "plt.xlabel('Mês')\n",
    "plt.ylabel('Total de Gols')\n",
    "plt.xticks(rotation=45)\n",
    "plt.grid(axis='y', linestyle='--', alpha=0.7)\n",
    "\n",
    "# Adiciona os valores no topo das barras\n",
    "for bar in bars:\n",
    "    height = bar.get_height()\n",
    "    plt.text(bar.get_x() + bar.get_width()/2, height + 1, f'{int(height)}',\n",
    "             ha='center', va='bottom', fontsize=10)\n",
    "\n",
    "plt.tight_layout()\n",
    "plt.show()\n"
   ]
  },
  {
   "cell_type": "markdown",
   "metadata": {
    "application/vnd.databricks.v1+cell": {
     "cellMetadata": {},
     "inputWidgets": {},
     "nuid": "014f80f4-c7e3-4fb1-a444-580f4b6800d6",
     "showTitle": false,
     "tableResultSettingsMap": {},
     "title": ""
    }
   },
   "source": [
    "##### Resposta 10\n",
    "\n",
    "- Junho e Julho foram os meses com mais gols, 146 e 138, respectivamente. \n",
    "- Maio foi o mês com o pior total de gols. "
   ]
  },
  {
   "cell_type": "markdown",
   "metadata": {
    "application/vnd.databricks.v1+cell": {
     "cellMetadata": {
      "byteLimit": 2048000,
      "rowLimit": 10000
     },
     "inputWidgets": {},
     "nuid": "7618371a-3928-4121-840d-e870d1f7043e",
     "showTitle": false,
     "tableResultSettingsMap": {},
     "title": ""
    }
   },
   "source": [
    "### 1.7 Conclusão\n",
    "\n",
    "O projeto desenvolvido foi bastante enriquecedor, proporcionou um desafio bem interessante na construção de um pipeline de dados completo, desde a ingestão até a análise. A escolha do Campeonato Brasileiro de 2024 como tema permitiu explorar dados reais e relevantes, com foco na qualidade, modelagem e visualização dos dados de desempenho dos jogadores.\n",
    "\n",
    "As análises realizadas foram eficazes para responder as perguntas sobre o campeonato.\n",
    "\n",
    "Como oportunidade de melhoria futura, destaca-se o enriquecimento da base com informações adicionais sobre as partidas, como placar, local, condições climáticas e dados táticos, o que ampliaria ainda mais o escopo analítico do projeto e permitiria análises mais profundas.\n",
    "\n"
   ]
  }
 ],
 "metadata": {
  "application/vnd.databricks.v1+notebook": {
   "computePreferences": null,
   "dashboards": [],
   "environmentMetadata": {
    "base_environment": "",
    "environment_version": "1"
   },
   "inputWidgetPreferences": null,
   "language": "python",
   "notebookMetadata": {
    "mostRecentlyExecutedCommandWithImplicitDF": {
     "commandId": 2220081408138722,
     "dataframes": [
      "_sqldf"
     ]
    },
    "pythonIndentUnit": 4
   },
   "notebookName": "(Clone) mvp_campeonato_br_2024_teste",
   "widgets": {}
  }
 },
 "nbformat": 4,
 "nbformat_minor": 0
}